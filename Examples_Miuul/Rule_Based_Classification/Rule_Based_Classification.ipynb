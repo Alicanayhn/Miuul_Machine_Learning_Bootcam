{
 "cells": [
  {
   "cell_type": "markdown",
   "id": "fdd166ea",
   "metadata": {},
   "source": [
    "# Kural Tabanlı Sınıflandırma"
   ]
  },
  {
   "cell_type": "markdown",
   "id": "3f5c70a2",
   "metadata": {},
   "source": [
    "### Görev 1: Aşağıdaki Soruları Yanıtlayını"
   ]
  },
  {
   "cell_type": "markdown",
   "id": "0a70ce1e",
   "metadata": {},
   "source": [
    "###### Soru 1: persona.csv dosyasını okutunuz ve veri seti ile ilgili genel bilgileri gösteriniz."
   ]
  },
  {
   "cell_type": "code",
   "execution_count": 1,
   "id": "fa4db85f",
   "metadata": {},
   "outputs": [],
   "source": [
    "import pandas as pd"
   ]
  },
  {
   "cell_type": "code",
   "execution_count": 2,
   "id": "1bec6f06",
   "metadata": {},
   "outputs": [
    {
     "data": {
      "text/html": [
       "<div>\n",
       "<style scoped>\n",
       "    .dataframe tbody tr th:only-of-type {\n",
       "        vertical-align: middle;\n",
       "    }\n",
       "\n",
       "    .dataframe tbody tr th {\n",
       "        vertical-align: top;\n",
       "    }\n",
       "\n",
       "    .dataframe thead th {\n",
       "        text-align: right;\n",
       "    }\n",
       "</style>\n",
       "<table border=\"1\" class=\"dataframe\">\n",
       "  <thead>\n",
       "    <tr style=\"text-align: right;\">\n",
       "      <th></th>\n",
       "      <th>PRICE</th>\n",
       "      <th>SOURCE</th>\n",
       "      <th>SEX</th>\n",
       "      <th>COUNTRY</th>\n",
       "      <th>AGE</th>\n",
       "    </tr>\n",
       "  </thead>\n",
       "  <tbody>\n",
       "    <tr>\n",
       "      <th>0</th>\n",
       "      <td>39</td>\n",
       "      <td>android</td>\n",
       "      <td>male</td>\n",
       "      <td>bra</td>\n",
       "      <td>17</td>\n",
       "    </tr>\n",
       "    <tr>\n",
       "      <th>1</th>\n",
       "      <td>39</td>\n",
       "      <td>android</td>\n",
       "      <td>male</td>\n",
       "      <td>bra</td>\n",
       "      <td>17</td>\n",
       "    </tr>\n",
       "    <tr>\n",
       "      <th>2</th>\n",
       "      <td>49</td>\n",
       "      <td>android</td>\n",
       "      <td>male</td>\n",
       "      <td>bra</td>\n",
       "      <td>17</td>\n",
       "    </tr>\n",
       "    <tr>\n",
       "      <th>3</th>\n",
       "      <td>29</td>\n",
       "      <td>android</td>\n",
       "      <td>male</td>\n",
       "      <td>tur</td>\n",
       "      <td>17</td>\n",
       "    </tr>\n",
       "    <tr>\n",
       "      <th>4</th>\n",
       "      <td>49</td>\n",
       "      <td>android</td>\n",
       "      <td>male</td>\n",
       "      <td>tur</td>\n",
       "      <td>17</td>\n",
       "    </tr>\n",
       "  </tbody>\n",
       "</table>\n",
       "</div>"
      ],
      "text/plain": [
       "   PRICE   SOURCE   SEX COUNTRY  AGE\n",
       "0     39  android  male     bra   17\n",
       "1     39  android  male     bra   17\n",
       "2     49  android  male     bra   17\n",
       "3     29  android  male     tur   17\n",
       "4     49  android  male     tur   17"
      ]
     },
     "execution_count": 2,
     "metadata": {},
     "output_type": "execute_result"
    }
   ],
   "source": [
    "df = pd.read_csv(\"persona.csv\")\n",
    "df.head()"
   ]
  },
  {
   "cell_type": "markdown",
   "id": "6b3e513a",
   "metadata": {},
   "source": [
    "###### Soru 2: Kaç unique SOURCE vardır? Frekansları nedir?"
   ]
  },
  {
   "cell_type": "code",
   "execution_count": 3,
   "id": "ff1ef1ce",
   "metadata": {},
   "outputs": [
    {
     "data": {
      "text/plain": [
       "android    2974\n",
       "ios        2026\n",
       "Name: SOURCE, dtype: int64"
      ]
     },
     "execution_count": 3,
     "metadata": {},
     "output_type": "execute_result"
    }
   ],
   "source": [
    "df.SOURCE.value_counts()"
   ]
  },
  {
   "cell_type": "markdown",
   "id": "eca6fa42",
   "metadata": {},
   "source": [
    "###### Soru 3: Kaç unique PRICE vardır?"
   ]
  },
  {
   "cell_type": "code",
   "execution_count": 4,
   "id": "13e86f8d",
   "metadata": {},
   "outputs": [
    {
     "data": {
      "text/plain": [
       "6"
      ]
     },
     "execution_count": 4,
     "metadata": {},
     "output_type": "execute_result"
    }
   ],
   "source": [
    "df[\"PRICE\"].nunique()"
   ]
  },
  {
   "cell_type": "markdown",
   "id": "beb33459",
   "metadata": {},
   "source": [
    "######  Soru 4: Hangi PRICE'dan kaçar tane satış gerçekleşmiş?"
   ]
  },
  {
   "cell_type": "code",
   "execution_count": 5,
   "id": "f113e8da",
   "metadata": {},
   "outputs": [
    {
     "data": {
      "text/plain": [
       "29    1305\n",
       "39    1260\n",
       "49    1031\n",
       "19     992\n",
       "59     212\n",
       "9      200\n",
       "Name: PRICE, dtype: int64"
      ]
     },
     "execution_count": 5,
     "metadata": {},
     "output_type": "execute_result"
    }
   ],
   "source": [
    "df.PRICE.value_counts()"
   ]
  },
  {
   "cell_type": "markdown",
   "id": "54c0b786",
   "metadata": {},
   "source": [
    "######  Soru 5: Hangi ülkeden kaçar tane satış olmuş?"
   ]
  },
  {
   "cell_type": "code",
   "execution_count": 6,
   "id": "2fd55745",
   "metadata": {},
   "outputs": [
    {
     "data": {
      "text/plain": [
       "usa    2065\n",
       "bra    1496\n",
       "deu     455\n",
       "tur     451\n",
       "fra     303\n",
       "can     230\n",
       "Name: COUNTRY, dtype: int64"
      ]
     },
     "execution_count": 6,
     "metadata": {},
     "output_type": "execute_result"
    }
   ],
   "source": [
    "df[\"COUNTRY\"].value_counts()"
   ]
  },
  {
   "cell_type": "markdown",
   "id": "abece81c",
   "metadata": {},
   "source": [
    "###### Soru 6: Ülkelere göre satışlardan toplam ne kadar kazanılmış?"
   ]
  },
  {
   "cell_type": "code",
   "execution_count": 7,
   "id": "05abc24a",
   "metadata": {},
   "outputs": [
    {
     "data": {
      "text/plain": [
       "COUNTRY\n",
       "bra    51354\n",
       "can     7730\n",
       "deu    15485\n",
       "fra    10177\n",
       "tur    15689\n",
       "usa    70225\n",
       "Name: PRICE, dtype: int64"
      ]
     },
     "execution_count": 7,
     "metadata": {},
     "output_type": "execute_result"
    }
   ],
   "source": [
    "df.groupby(\"COUNTRY\")[\"PRICE\"].sum()"
   ]
  },
  {
   "cell_type": "markdown",
   "id": "5058b5d7",
   "metadata": {},
   "source": [
    "###### Soru 7: SOURCE türlerine göre satış sayıları nedir?"
   ]
  },
  {
   "cell_type": "code",
   "execution_count": 8,
   "id": "2afeae0e",
   "metadata": {},
   "outputs": [
    {
     "data": {
      "text/html": [
       "<div>\n",
       "<style scoped>\n",
       "    .dataframe tbody tr th:only-of-type {\n",
       "        vertical-align: middle;\n",
       "    }\n",
       "\n",
       "    .dataframe tbody tr th {\n",
       "        vertical-align: top;\n",
       "    }\n",
       "\n",
       "    .dataframe thead th {\n",
       "        text-align: right;\n",
       "    }\n",
       "</style>\n",
       "<table border=\"1\" class=\"dataframe\">\n",
       "  <thead>\n",
       "    <tr style=\"text-align: right;\">\n",
       "      <th></th>\n",
       "      <th>PRICE</th>\n",
       "    </tr>\n",
       "    <tr>\n",
       "      <th>SOURCE</th>\n",
       "      <th></th>\n",
       "    </tr>\n",
       "  </thead>\n",
       "  <tbody>\n",
       "    <tr>\n",
       "      <th>android</th>\n",
       "      <td>2974</td>\n",
       "    </tr>\n",
       "    <tr>\n",
       "      <th>ios</th>\n",
       "      <td>2026</td>\n",
       "    </tr>\n",
       "  </tbody>\n",
       "</table>\n",
       "</div>"
      ],
      "text/plain": [
       "         PRICE\n",
       "SOURCE        \n",
       "android   2974\n",
       "ios       2026"
      ]
     },
     "execution_count": 8,
     "metadata": {},
     "output_type": "execute_result"
    }
   ],
   "source": [
    "df.groupby(\"SOURCE\").agg({\"PRICE\":\"count\"})"
   ]
  },
  {
   "cell_type": "markdown",
   "id": "3dd95f5c",
   "metadata": {},
   "source": [
    "###### Soru 8: Ülkelere göre PRICE ortalamaları nedir?"
   ]
  },
  {
   "cell_type": "code",
   "execution_count": 9,
   "id": "a49316e5",
   "metadata": {},
   "outputs": [
    {
     "data": {
      "text/html": [
       "<div>\n",
       "<style scoped>\n",
       "    .dataframe tbody tr th:only-of-type {\n",
       "        vertical-align: middle;\n",
       "    }\n",
       "\n",
       "    .dataframe tbody tr th {\n",
       "        vertical-align: top;\n",
       "    }\n",
       "\n",
       "    .dataframe thead th {\n",
       "        text-align: right;\n",
       "    }\n",
       "</style>\n",
       "<table border=\"1\" class=\"dataframe\">\n",
       "  <thead>\n",
       "    <tr style=\"text-align: right;\">\n",
       "      <th></th>\n",
       "      <th>PRICE</th>\n",
       "    </tr>\n",
       "    <tr>\n",
       "      <th>COUNTRY</th>\n",
       "      <th></th>\n",
       "    </tr>\n",
       "  </thead>\n",
       "  <tbody>\n",
       "    <tr>\n",
       "      <th>bra</th>\n",
       "      <td>34.327540</td>\n",
       "    </tr>\n",
       "    <tr>\n",
       "      <th>can</th>\n",
       "      <td>33.608696</td>\n",
       "    </tr>\n",
       "    <tr>\n",
       "      <th>deu</th>\n",
       "      <td>34.032967</td>\n",
       "    </tr>\n",
       "    <tr>\n",
       "      <th>fra</th>\n",
       "      <td>33.587459</td>\n",
       "    </tr>\n",
       "    <tr>\n",
       "      <th>tur</th>\n",
       "      <td>34.787140</td>\n",
       "    </tr>\n",
       "    <tr>\n",
       "      <th>usa</th>\n",
       "      <td>34.007264</td>\n",
       "    </tr>\n",
       "  </tbody>\n",
       "</table>\n",
       "</div>"
      ],
      "text/plain": [
       "             PRICE\n",
       "COUNTRY           \n",
       "bra      34.327540\n",
       "can      33.608696\n",
       "deu      34.032967\n",
       "fra      33.587459\n",
       "tur      34.787140\n",
       "usa      34.007264"
      ]
     },
     "execution_count": 9,
     "metadata": {},
     "output_type": "execute_result"
    }
   ],
   "source": [
    "df.groupby(\"COUNTRY\").agg({\"PRICE\":\"mean\"})"
   ]
  },
  {
   "cell_type": "markdown",
   "id": "38aa349d",
   "metadata": {},
   "source": [
    "###### Soru 9: SOURCE'lara göre PRICE ortalamaları nedir?"
   ]
  },
  {
   "cell_type": "code",
   "execution_count": 10,
   "id": "d60a528a",
   "metadata": {},
   "outputs": [
    {
     "data": {
      "text/html": [
       "<div>\n",
       "<style scoped>\n",
       "    .dataframe tbody tr th:only-of-type {\n",
       "        vertical-align: middle;\n",
       "    }\n",
       "\n",
       "    .dataframe tbody tr th {\n",
       "        vertical-align: top;\n",
       "    }\n",
       "\n",
       "    .dataframe thead th {\n",
       "        text-align: right;\n",
       "    }\n",
       "</style>\n",
       "<table border=\"1\" class=\"dataframe\">\n",
       "  <thead>\n",
       "    <tr style=\"text-align: right;\">\n",
       "      <th></th>\n",
       "      <th>PRICE</th>\n",
       "    </tr>\n",
       "    <tr>\n",
       "      <th>SOURCE</th>\n",
       "      <th></th>\n",
       "    </tr>\n",
       "  </thead>\n",
       "  <tbody>\n",
       "    <tr>\n",
       "      <th>android</th>\n",
       "      <td>34.174849</td>\n",
       "    </tr>\n",
       "    <tr>\n",
       "      <th>ios</th>\n",
       "      <td>34.069102</td>\n",
       "    </tr>\n",
       "  </tbody>\n",
       "</table>\n",
       "</div>"
      ],
      "text/plain": [
       "             PRICE\n",
       "SOURCE            \n",
       "android  34.174849\n",
       "ios      34.069102"
      ]
     },
     "execution_count": 10,
     "metadata": {},
     "output_type": "execute_result"
    }
   ],
   "source": [
    "df.groupby(\"SOURCE\").agg({\"PRICE\":\"mean\"})"
   ]
  },
  {
   "cell_type": "markdown",
   "id": "7c5c9d45",
   "metadata": {},
   "source": [
    "###### Soru 10: COUNTRY-SOURCE kırılımında PRICE ortalamaları nedir?"
   ]
  },
  {
   "cell_type": "code",
   "execution_count": 11,
   "id": "a959ee5c",
   "metadata": {},
   "outputs": [
    {
     "data": {
      "text/html": [
       "<div>\n",
       "<style scoped>\n",
       "    .dataframe tbody tr th:only-of-type {\n",
       "        vertical-align: middle;\n",
       "    }\n",
       "\n",
       "    .dataframe tbody tr th {\n",
       "        vertical-align: top;\n",
       "    }\n",
       "\n",
       "    .dataframe thead th {\n",
       "        text-align: right;\n",
       "    }\n",
       "</style>\n",
       "<table border=\"1\" class=\"dataframe\">\n",
       "  <thead>\n",
       "    <tr style=\"text-align: right;\">\n",
       "      <th></th>\n",
       "      <th></th>\n",
       "      <th>PRICE</th>\n",
       "    </tr>\n",
       "    <tr>\n",
       "      <th>COUNTRY</th>\n",
       "      <th>SOURCE</th>\n",
       "      <th></th>\n",
       "    </tr>\n",
       "  </thead>\n",
       "  <tbody>\n",
       "    <tr>\n",
       "      <th rowspan=\"2\" valign=\"top\">bra</th>\n",
       "      <th>android</th>\n",
       "      <td>34.387029</td>\n",
       "    </tr>\n",
       "    <tr>\n",
       "      <th>ios</th>\n",
       "      <td>34.222222</td>\n",
       "    </tr>\n",
       "    <tr>\n",
       "      <th rowspan=\"2\" valign=\"top\">can</th>\n",
       "      <th>android</th>\n",
       "      <td>33.330709</td>\n",
       "    </tr>\n",
       "    <tr>\n",
       "      <th>ios</th>\n",
       "      <td>33.951456</td>\n",
       "    </tr>\n",
       "    <tr>\n",
       "      <th rowspan=\"2\" valign=\"top\">deu</th>\n",
       "      <th>android</th>\n",
       "      <td>33.869888</td>\n",
       "    </tr>\n",
       "    <tr>\n",
       "      <th>ios</th>\n",
       "      <td>34.268817</td>\n",
       "    </tr>\n",
       "    <tr>\n",
       "      <th rowspan=\"2\" valign=\"top\">fra</th>\n",
       "      <th>android</th>\n",
       "      <td>34.312500</td>\n",
       "    </tr>\n",
       "    <tr>\n",
       "      <th>ios</th>\n",
       "      <td>32.776224</td>\n",
       "    </tr>\n",
       "    <tr>\n",
       "      <th rowspan=\"2\" valign=\"top\">tur</th>\n",
       "      <th>android</th>\n",
       "      <td>36.229437</td>\n",
       "    </tr>\n",
       "    <tr>\n",
       "      <th>ios</th>\n",
       "      <td>33.272727</td>\n",
       "    </tr>\n",
       "    <tr>\n",
       "      <th rowspan=\"2\" valign=\"top\">usa</th>\n",
       "      <th>android</th>\n",
       "      <td>33.760357</td>\n",
       "    </tr>\n",
       "    <tr>\n",
       "      <th>ios</th>\n",
       "      <td>34.371703</td>\n",
       "    </tr>\n",
       "  </tbody>\n",
       "</table>\n",
       "</div>"
      ],
      "text/plain": [
       "                     PRICE\n",
       "COUNTRY SOURCE            \n",
       "bra     android  34.387029\n",
       "        ios      34.222222\n",
       "can     android  33.330709\n",
       "        ios      33.951456\n",
       "deu     android  33.869888\n",
       "        ios      34.268817\n",
       "fra     android  34.312500\n",
       "        ios      32.776224\n",
       "tur     android  36.229437\n",
       "        ios      33.272727\n",
       "usa     android  33.760357\n",
       "        ios      34.371703"
      ]
     },
     "execution_count": 11,
     "metadata": {},
     "output_type": "execute_result"
    }
   ],
   "source": [
    "df.groupby([\"COUNTRY\",\"SOURCE\"]).agg({\"PRICE\":\"mean\"})"
   ]
  },
  {
   "cell_type": "markdown",
   "id": "b0b3ab73",
   "metadata": {},
   "source": [
    "### Görev 2: COUNTRY, SOURCE, SEX, AGE kırılımında ortalama kazançlar nedir"
   ]
  },
  {
   "cell_type": "code",
   "execution_count": 12,
   "id": "32b272a4",
   "metadata": {},
   "outputs": [
    {
     "data": {
      "text/html": [
       "<div>\n",
       "<style scoped>\n",
       "    .dataframe tbody tr th:only-of-type {\n",
       "        vertical-align: middle;\n",
       "    }\n",
       "\n",
       "    .dataframe tbody tr th {\n",
       "        vertical-align: top;\n",
       "    }\n",
       "\n",
       "    .dataframe thead th {\n",
       "        text-align: right;\n",
       "    }\n",
       "</style>\n",
       "<table border=\"1\" class=\"dataframe\">\n",
       "  <thead>\n",
       "    <tr style=\"text-align: right;\">\n",
       "      <th></th>\n",
       "      <th></th>\n",
       "      <th></th>\n",
       "      <th></th>\n",
       "      <th>PRICE</th>\n",
       "    </tr>\n",
       "    <tr>\n",
       "      <th>COUNTRY</th>\n",
       "      <th>SOURCE</th>\n",
       "      <th>SEX</th>\n",
       "      <th>AGE</th>\n",
       "      <th></th>\n",
       "    </tr>\n",
       "  </thead>\n",
       "  <tbody>\n",
       "    <tr>\n",
       "      <th rowspan=\"5\" valign=\"top\">bra</th>\n",
       "      <th rowspan=\"5\" valign=\"top\">android</th>\n",
       "      <th rowspan=\"5\" valign=\"top\">female</th>\n",
       "      <th>15</th>\n",
       "      <td>38.714286</td>\n",
       "    </tr>\n",
       "    <tr>\n",
       "      <th>16</th>\n",
       "      <td>35.944444</td>\n",
       "    </tr>\n",
       "    <tr>\n",
       "      <th>17</th>\n",
       "      <td>35.666667</td>\n",
       "    </tr>\n",
       "    <tr>\n",
       "      <th>18</th>\n",
       "      <td>32.255814</td>\n",
       "    </tr>\n",
       "    <tr>\n",
       "      <th>19</th>\n",
       "      <td>35.206897</td>\n",
       "    </tr>\n",
       "    <tr>\n",
       "      <th>...</th>\n",
       "      <th>...</th>\n",
       "      <th>...</th>\n",
       "      <th>...</th>\n",
       "      <td>...</td>\n",
       "    </tr>\n",
       "    <tr>\n",
       "      <th rowspan=\"5\" valign=\"top\">usa</th>\n",
       "      <th rowspan=\"5\" valign=\"top\">ios</th>\n",
       "      <th rowspan=\"5\" valign=\"top\">male</th>\n",
       "      <th>42</th>\n",
       "      <td>30.250000</td>\n",
       "    </tr>\n",
       "    <tr>\n",
       "      <th>50</th>\n",
       "      <td>39.000000</td>\n",
       "    </tr>\n",
       "    <tr>\n",
       "      <th>53</th>\n",
       "      <td>34.000000</td>\n",
       "    </tr>\n",
       "    <tr>\n",
       "      <th>55</th>\n",
       "      <td>29.000000</td>\n",
       "    </tr>\n",
       "    <tr>\n",
       "      <th>59</th>\n",
       "      <td>46.500000</td>\n",
       "    </tr>\n",
       "  </tbody>\n",
       "</table>\n",
       "<p>348 rows × 1 columns</p>\n",
       "</div>"
      ],
      "text/plain": [
       "                                PRICE\n",
       "COUNTRY SOURCE  SEX    AGE           \n",
       "bra     android female 15   38.714286\n",
       "                       16   35.944444\n",
       "                       17   35.666667\n",
       "                       18   32.255814\n",
       "                       19   35.206897\n",
       "...                               ...\n",
       "usa     ios     male   42   30.250000\n",
       "                       50   39.000000\n",
       "                       53   34.000000\n",
       "                       55   29.000000\n",
       "                       59   46.500000\n",
       "\n",
       "[348 rows x 1 columns]"
      ]
     },
     "execution_count": 12,
     "metadata": {},
     "output_type": "execute_result"
    }
   ],
   "source": [
    "df.groupby([\"COUNTRY\",\"SOURCE\",\"SEX\",\"AGE\"]).agg({\"PRICE\":\"mean\"})"
   ]
  },
  {
   "cell_type": "markdown",
   "id": "84cf5897",
   "metadata": {},
   "source": [
    "### Görev 3: Çıktıyı PRICE’a göre sıralayınız.\n",
    "###### • Önceki sorudaki çıktıyı daha iyi görebilmek için sort_values metodunu azalan olacak şekilde PRICE’a göre uygulayınız\n",
    "###### • Çıktıyı agg_df olarak kaydediniz."
   ]
  },
  {
   "cell_type": "code",
   "execution_count": 13,
   "id": "27b11bd3",
   "metadata": {},
   "outputs": [
    {
     "data": {
      "text/html": [
       "<div>\n",
       "<style scoped>\n",
       "    .dataframe tbody tr th:only-of-type {\n",
       "        vertical-align: middle;\n",
       "    }\n",
       "\n",
       "    .dataframe tbody tr th {\n",
       "        vertical-align: top;\n",
       "    }\n",
       "\n",
       "    .dataframe thead th {\n",
       "        text-align: right;\n",
       "    }\n",
       "</style>\n",
       "<table border=\"1\" class=\"dataframe\">\n",
       "  <thead>\n",
       "    <tr style=\"text-align: right;\">\n",
       "      <th></th>\n",
       "      <th></th>\n",
       "      <th></th>\n",
       "      <th></th>\n",
       "      <th>PRICE</th>\n",
       "    </tr>\n",
       "    <tr>\n",
       "      <th>COUNTRY</th>\n",
       "      <th>SOURCE</th>\n",
       "      <th>SEX</th>\n",
       "      <th>AGE</th>\n",
       "      <th></th>\n",
       "    </tr>\n",
       "  </thead>\n",
       "  <tbody>\n",
       "    <tr>\n",
       "      <th>bra</th>\n",
       "      <th>android</th>\n",
       "      <th>male</th>\n",
       "      <th>46</th>\n",
       "      <td>59.0</td>\n",
       "    </tr>\n",
       "    <tr>\n",
       "      <th>usa</th>\n",
       "      <th>android</th>\n",
       "      <th>male</th>\n",
       "      <th>36</th>\n",
       "      <td>59.0</td>\n",
       "    </tr>\n",
       "    <tr>\n",
       "      <th>fra</th>\n",
       "      <th>android</th>\n",
       "      <th>female</th>\n",
       "      <th>24</th>\n",
       "      <td>59.0</td>\n",
       "    </tr>\n",
       "    <tr>\n",
       "      <th>usa</th>\n",
       "      <th>ios</th>\n",
       "      <th>male</th>\n",
       "      <th>32</th>\n",
       "      <td>54.0</td>\n",
       "    </tr>\n",
       "    <tr>\n",
       "      <th>deu</th>\n",
       "      <th>android</th>\n",
       "      <th>female</th>\n",
       "      <th>36</th>\n",
       "      <td>49.0</td>\n",
       "    </tr>\n",
       "  </tbody>\n",
       "</table>\n",
       "</div>"
      ],
      "text/plain": [
       "                            PRICE\n",
       "COUNTRY SOURCE  SEX    AGE       \n",
       "bra     android male   46    59.0\n",
       "usa     android male   36    59.0\n",
       "fra     android female 24    59.0\n",
       "usa     ios     male   32    54.0\n",
       "deu     android female 36    49.0"
      ]
     },
     "execution_count": 13,
     "metadata": {},
     "output_type": "execute_result"
    }
   ],
   "source": [
    "agg_df = df.groupby([\"COUNTRY\",\"SOURCE\",\"SEX\",\"AGE\"]).agg({\"PRICE\":\"mean\"}).sort_values(by=\"PRICE\",ascending=False)\n",
    "agg_df.head()"
   ]
  },
  {
   "cell_type": "markdown",
   "id": "71ce0074",
   "metadata": {},
   "source": [
    "### Görev 4: Indekste yer alan isimleri değişken ismine çeviriniz.\n",
    "###### • Üçüncü sorunun çıktısında yer alan PRICE dışındaki tüm değişkenler index isimleridir. Bu isimleri değişken isimlerine çeviriniz."
   ]
  },
  {
   "cell_type": "code",
   "execution_count": 14,
   "id": "aaa47220",
   "metadata": {},
   "outputs": [
    {
     "data": {
      "text/html": [
       "<div>\n",
       "<style scoped>\n",
       "    .dataframe tbody tr th:only-of-type {\n",
       "        vertical-align: middle;\n",
       "    }\n",
       "\n",
       "    .dataframe tbody tr th {\n",
       "        vertical-align: top;\n",
       "    }\n",
       "\n",
       "    .dataframe thead th {\n",
       "        text-align: right;\n",
       "    }\n",
       "</style>\n",
       "<table border=\"1\" class=\"dataframe\">\n",
       "  <thead>\n",
       "    <tr style=\"text-align: right;\">\n",
       "      <th></th>\n",
       "      <th>COUNTRY</th>\n",
       "      <th>SOURCE</th>\n",
       "      <th>SEX</th>\n",
       "      <th>AGE</th>\n",
       "      <th>PRICE</th>\n",
       "    </tr>\n",
       "  </thead>\n",
       "  <tbody>\n",
       "    <tr>\n",
       "      <th>0</th>\n",
       "      <td>bra</td>\n",
       "      <td>android</td>\n",
       "      <td>male</td>\n",
       "      <td>46</td>\n",
       "      <td>59.0</td>\n",
       "    </tr>\n",
       "    <tr>\n",
       "      <th>1</th>\n",
       "      <td>usa</td>\n",
       "      <td>android</td>\n",
       "      <td>male</td>\n",
       "      <td>36</td>\n",
       "      <td>59.0</td>\n",
       "    </tr>\n",
       "    <tr>\n",
       "      <th>2</th>\n",
       "      <td>fra</td>\n",
       "      <td>android</td>\n",
       "      <td>female</td>\n",
       "      <td>24</td>\n",
       "      <td>59.0</td>\n",
       "    </tr>\n",
       "    <tr>\n",
       "      <th>3</th>\n",
       "      <td>usa</td>\n",
       "      <td>ios</td>\n",
       "      <td>male</td>\n",
       "      <td>32</td>\n",
       "      <td>54.0</td>\n",
       "    </tr>\n",
       "    <tr>\n",
       "      <th>4</th>\n",
       "      <td>deu</td>\n",
       "      <td>android</td>\n",
       "      <td>female</td>\n",
       "      <td>36</td>\n",
       "      <td>49.0</td>\n",
       "    </tr>\n",
       "  </tbody>\n",
       "</table>\n",
       "</div>"
      ],
      "text/plain": [
       "  COUNTRY   SOURCE     SEX  AGE  PRICE\n",
       "0     bra  android    male   46   59.0\n",
       "1     usa  android    male   36   59.0\n",
       "2     fra  android  female   24   59.0\n",
       "3     usa      ios    male   32   54.0\n",
       "4     deu  android  female   36   49.0"
      ]
     },
     "execution_count": 14,
     "metadata": {},
     "output_type": "execute_result"
    }
   ],
   "source": [
    "agg_df.reset_index(inplace=True)\n",
    "agg_df.head()"
   ]
  },
  {
   "cell_type": "markdown",
   "id": "db0c0665",
   "metadata": {},
   "source": [
    "### Görev 5: Age değişkenini kategorik değişkene çeviriniz ve agg_df’e ekleyiniz.\n",
    "###### • Age sayısal değişkenini kategorik değişkene çeviriniz.\n",
    "###### • Aralıkları ikna edici şekilde oluşturunuz.\n",
    "###### • Örneğin: ‘0_18', ‘19_23', '24_30', '31_40', '41_70"
   ]
  },
  {
   "cell_type": "code",
   "execution_count": 15,
   "id": "d10c5f70",
   "metadata": {},
   "outputs": [
    {
     "data": {
      "text/plain": [
       "dtype('int64')"
      ]
     },
     "execution_count": 15,
     "metadata": {},
     "output_type": "execute_result"
    }
   ],
   "source": [
    "agg_df.AGE.dtype"
   ]
  },
  {
   "cell_type": "code",
   "execution_count": 16,
   "id": "d160ef97",
   "metadata": {},
   "outputs": [
    {
     "data": {
      "text/plain": [
       "CategoricalDtype(categories=[15, 16, 17, 18, 19, 20, 21, 22, 23, 24, 25, 26, 27, 28, 29,\n",
       "                  30, 31, 32, 33, 34, 35, 36, 37, 38, 39, 40, 41, 42, 43, 44,\n",
       "                  45, 46, 47, 49, 50, 51, 52, 53, 54, 55, 56, 57, 59, 61, 65,\n",
       "                  66],\n",
       ", ordered=False)"
      ]
     },
     "execution_count": 16,
     "metadata": {},
     "output_type": "execute_result"
    }
   ],
   "source": [
    "agg_df.AGE = agg_df.AGE.astype(\"category\")\n",
    "agg_df.AGE.dtype"
   ]
  },
  {
   "cell_type": "code",
   "execution_count": 17,
   "id": "0c67baf6",
   "metadata": {},
   "outputs": [
    {
     "data": {
      "text/html": [
       "<div>\n",
       "<style scoped>\n",
       "    .dataframe tbody tr th:only-of-type {\n",
       "        vertical-align: middle;\n",
       "    }\n",
       "\n",
       "    .dataframe tbody tr th {\n",
       "        vertical-align: top;\n",
       "    }\n",
       "\n",
       "    .dataframe thead th {\n",
       "        text-align: right;\n",
       "    }\n",
       "</style>\n",
       "<table border=\"1\" class=\"dataframe\">\n",
       "  <thead>\n",
       "    <tr style=\"text-align: right;\">\n",
       "      <th></th>\n",
       "      <th>COUNTRY</th>\n",
       "      <th>SOURCE</th>\n",
       "      <th>SEX</th>\n",
       "      <th>AGE</th>\n",
       "      <th>PRICE</th>\n",
       "      <th>AGE_CAT</th>\n",
       "    </tr>\n",
       "  </thead>\n",
       "  <tbody>\n",
       "    <tr>\n",
       "      <th>0</th>\n",
       "      <td>bra</td>\n",
       "      <td>android</td>\n",
       "      <td>male</td>\n",
       "      <td>46</td>\n",
       "      <td>59.0</td>\n",
       "      <td>41_70</td>\n",
       "    </tr>\n",
       "    <tr>\n",
       "      <th>1</th>\n",
       "      <td>usa</td>\n",
       "      <td>android</td>\n",
       "      <td>male</td>\n",
       "      <td>36</td>\n",
       "      <td>59.0</td>\n",
       "      <td>31_40</td>\n",
       "    </tr>\n",
       "    <tr>\n",
       "      <th>2</th>\n",
       "      <td>fra</td>\n",
       "      <td>android</td>\n",
       "      <td>female</td>\n",
       "      <td>24</td>\n",
       "      <td>59.0</td>\n",
       "      <td>24_30</td>\n",
       "    </tr>\n",
       "    <tr>\n",
       "      <th>3</th>\n",
       "      <td>usa</td>\n",
       "      <td>ios</td>\n",
       "      <td>male</td>\n",
       "      <td>32</td>\n",
       "      <td>54.0</td>\n",
       "      <td>31_40</td>\n",
       "    </tr>\n",
       "    <tr>\n",
       "      <th>4</th>\n",
       "      <td>deu</td>\n",
       "      <td>android</td>\n",
       "      <td>female</td>\n",
       "      <td>36</td>\n",
       "      <td>49.0</td>\n",
       "      <td>31_40</td>\n",
       "    </tr>\n",
       "  </tbody>\n",
       "</table>\n",
       "</div>"
      ],
      "text/plain": [
       "  COUNTRY   SOURCE     SEX AGE  PRICE AGE_CAT\n",
       "0     bra  android    male  46   59.0   41_70\n",
       "1     usa  android    male  36   59.0   31_40\n",
       "2     fra  android  female  24   59.0   24_30\n",
       "3     usa      ios    male  32   54.0   31_40\n",
       "4     deu  android  female  36   49.0   31_40"
      ]
     },
     "execution_count": 17,
     "metadata": {},
     "output_type": "execute_result"
    }
   ],
   "source": [
    "agg_df[\"AGE_CAT\"] = pd.cut(agg_df[\"AGE\"],bins=[0,18,23,30,40,70],labels=[\"0_18\",\"19_23\",\"24_30\",\"31_40\",\"41_70\"])\n",
    "agg_df.head()"
   ]
  },
  {
   "cell_type": "markdown",
   "id": "18cb195c",
   "metadata": {},
   "source": [
    "### Görev 6: Yeni seviye tabanlı müşterileri (persona) tanımlayınız.\n",
    "###### • Yeni seviye tabanlı müşterileri (persona) tanımlayınız ve veri setine değişken olarak ekleyiniz.\n",
    "###### • Yeni eklenecek değişkenin adı: customers_level_based\n",
    "###### • Önceki soruda elde edeceğiniz çıktıdaki gözlemleri bir araya getirerek customers_level_based değişkenini oluşturmanız gerekmektedir"
   ]
  },
  {
   "cell_type": "code",
   "execution_count": 18,
   "id": "d1388a32",
   "metadata": {},
   "outputs": [
    {
     "data": {
      "text/plain": [
       "['BRA_ANDROID_MALE_41_70',\n",
       " 'USA_ANDROID_MALE_31_40',\n",
       " 'FRA_ANDROID_FEMALE_24_30',\n",
       " 'USA_IOS_MALE_31_40',\n",
       " 'DEU_ANDROID_FEMALE_31_40',\n",
       " 'DEU_ANDROID_FEMALE_41_70',\n",
       " 'DEU_IOS_MALE_19_23',\n",
       " 'USA_ANDROID_FEMALE_41_70',\n",
       " 'FRA_IOS_MALE_19_23',\n",
       " 'USA_IOS_MALE_41_70',\n",
       " 'DEU_ANDROID_MALE_0_18',\n",
       " 'BRA_ANDROID_FEMALE_24_30',\n",
       " 'USA_ANDROID_FEMALE_41_70',\n",
       " 'TUR_IOS_MALE_24_30',\n",
       " 'DEU_ANDROID_MALE_31_40',\n",
       " 'TUR_IOS_FEMALE_0_18',\n",
       " 'BRA_ANDROID_FEMALE_41_70',\n",
       " 'BRA_IOS_FEMALE_19_23',\n",
       " 'TUR_ANDROID_FEMALE_31_40',\n",
       " 'BRA_ANDROID_FEMALE_31_40',\n",
       " 'TUR_IOS_MALE_31_40',\n",
       " 'TUR_ANDROID_MALE_0_18',\n",
       " 'USA_IOS_MALE_24_30',\n",
       " 'BRA_IOS_MALE_41_70',\n",
       " 'DEU_ANDROID_MALE_19_23',\n",
       " 'USA_IOS_MALE_24_30',\n",
       " 'TUR_ANDROID_FEMALE_0_18',\n",
       " 'USA_ANDROID_MALE_41_70',\n",
       " 'TUR_ANDROID_MALE_24_30',\n",
       " 'USA_IOS_FEMALE_41_70',\n",
       " 'FRA_ANDROID_MALE_19_23',\n",
       " 'USA_IOS_MALE_31_40',\n",
       " 'TUR_ANDROID_FEMALE_0_18',\n",
       " 'FRA_IOS_MALE_0_18',\n",
       " 'TUR_IOS_FEMALE_19_23',\n",
       " 'TUR_ANDROID_FEMALE_31_40',\n",
       " 'TUR_ANDROID_MALE_24_30',\n",
       " 'FRA_ANDROID_MALE_19_23',\n",
       " 'BRA_ANDROID_MALE_24_30',\n",
       " 'CAN_ANDROID_MALE_24_30',\n",
       " 'CAN_ANDROID_MALE_19_23',\n",
       " 'USA_ANDROID_MALE_41_70',\n",
       " 'TUR_ANDROID_MALE_24_30',\n",
       " 'BRA_ANDROID_MALE_31_40',\n",
       " 'BRA_ANDROID_MALE_0_18',\n",
       " 'USA_IOS_FEMALE_19_23',\n",
       " 'TUR_ANDROID_MALE_41_70',\n",
       " 'BRA_IOS_FEMALE_19_23',\n",
       " 'USA_IOS_MALE_41_70',\n",
       " 'BRA_IOS_FEMALE_24_30',\n",
       " 'DEU_ANDROID_FEMALE_31_40',\n",
       " 'DEU_IOS_MALE_0_18',\n",
       " 'FRA_ANDROID_FEMALE_19_23',\n",
       " 'FRA_ANDROID_MALE_31_40',\n",
       " 'TUR_IOS_FEMALE_31_40',\n",
       " 'FRA_IOS_MALE_41_70',\n",
       " 'BRA_ANDROID_FEMALE_31_40',\n",
       " 'TUR_IOS_MALE_0_18',\n",
       " 'BRA_IOS_FEMALE_41_70',\n",
       " 'TUR_ANDROID_MALE_0_18',\n",
       " 'TUR_ANDROID_FEMALE_41_70',\n",
       " 'BRA_ANDROID_FEMALE_0_18',\n",
       " 'USA_IOS_MALE_19_23',\n",
       " 'USA_IOS_FEMALE_0_18',\n",
       " 'FRA_IOS_MALE_31_40',\n",
       " 'TUR_ANDROID_MALE_0_18',\n",
       " 'DEU_ANDROID_MALE_31_40',\n",
       " 'USA_IOS_FEMALE_24_30',\n",
       " 'DEU_IOS_FEMALE_0_18',\n",
       " 'CAN_IOS_MALE_0_18',\n",
       " 'CAN_ANDROID_MALE_41_70',\n",
       " 'BRA_ANDROID_FEMALE_24_30',\n",
       " 'TUR_ANDROID_FEMALE_24_30',\n",
       " 'CAN_IOS_MALE_0_18',\n",
       " 'BRA_IOS_MALE_31_40',\n",
       " 'FRA_ANDROID_FEMALE_0_18',\n",
       " 'DEU_IOS_FEMALE_0_18',\n",
       " 'CAN_ANDROID_FEMALE_0_18',\n",
       " 'TUR_IOS_FEMALE_19_23',\n",
       " 'DEU_ANDROID_MALE_19_23',\n",
       " 'BRA_ANDROID_FEMALE_19_23',\n",
       " 'USA_ANDROID_FEMALE_31_40',\n",
       " 'BRA_IOS_MALE_19_23',\n",
       " 'BRA_ANDROID_MALE_0_18',\n",
       " 'BRA_ANDROID_MALE_24_30',\n",
       " 'USA_ANDROID_MALE_24_30',\n",
       " 'TUR_ANDROID_FEMALE_19_23',\n",
       " 'DEU_IOS_MALE_41_70',\n",
       " 'BRA_ANDROID_FEMALE_41_70',\n",
       " 'BRA_IOS_MALE_0_18',\n",
       " 'USA_IOS_FEMALE_24_30',\n",
       " 'BRA_IOS_FEMALE_0_18',\n",
       " 'BRA_IOS_MALE_31_40',\n",
       " 'FRA_ANDROID_FEMALE_0_18',\n",
       " 'USA_ANDROID_MALE_19_23',\n",
       " 'BRA_IOS_FEMALE_0_18',\n",
       " 'BRA_ANDROID_MALE_41_70',\n",
       " 'BRA_ANDROID_FEMALE_24_30',\n",
       " 'USA_ANDROID_MALE_24_30',\n",
       " 'TUR_ANDROID_FEMALE_41_70',\n",
       " 'USA_IOS_FEMALE_24_30',\n",
       " 'DEU_IOS_FEMALE_24_30',\n",
       " 'CAN_ANDROID_MALE_0_18',\n",
       " 'BRA_ANDROID_FEMALE_0_18',\n",
       " 'TUR_ANDROID_MALE_24_30',\n",
       " 'USA_ANDROID_MALE_41_70',\n",
       " 'USA_IOS_FEMALE_19_23',\n",
       " 'USA_ANDROID_FEMALE_19_23',\n",
       " 'FRA_IOS_MALE_19_23',\n",
       " 'FRA_ANDROID_MALE_41_70',\n",
       " 'BRA_ANDROID_MALE_41_70',\n",
       " 'TUR_ANDROID_MALE_19_23',\n",
       " 'BRA_ANDROID_FEMALE_24_30',\n",
       " 'USA_ANDROID_FEMALE_31_40',\n",
       " 'USA_IOS_FEMALE_24_30',\n",
       " 'BRA_ANDROID_FEMALE_0_18',\n",
       " 'TUR_IOS_FEMALE_19_23',\n",
       " 'DEU_IOS_FEMALE_0_18',\n",
       " 'USA_ANDROID_MALE_41_70',\n",
       " 'BRA_ANDROID_MALE_19_23',\n",
       " 'DEU_ANDROID_MALE_31_40',\n",
       " 'BRA_IOS_FEMALE_31_40',\n",
       " 'BRA_IOS_FEMALE_41_70',\n",
       " 'BRA_ANDROID_MALE_24_30',\n",
       " 'DEU_ANDROID_FEMALE_24_30',\n",
       " 'BRA_IOS_MALE_0_18',\n",
       " 'BRA_ANDROID_MALE_19_23',\n",
       " 'USA_ANDROID_FEMALE_41_70',\n",
       " 'BRA_ANDROID_MALE_19_23',\n",
       " 'BRA_ANDROID_FEMALE_19_23',\n",
       " 'USA_ANDROID_MALE_0_18',\n",
       " 'BRA_IOS_FEMALE_31_40',\n",
       " 'USA_IOS_MALE_24_30',\n",
       " 'BRA_ANDROID_FEMALE_31_40',\n",
       " 'USA_IOS_FEMALE_19_23',\n",
       " 'USA_ANDROID_FEMALE_31_40',\n",
       " 'FRA_IOS_MALE_19_23',\n",
       " 'DEU_ANDROID_FEMALE_19_23',\n",
       " 'CAN_IOS_MALE_0_18',\n",
       " 'DEU_IOS_MALE_0_18',\n",
       " 'USA_IOS_FEMALE_41_70',\n",
       " 'DEU_IOS_MALE_24_30',\n",
       " 'BRA_ANDROID_FEMALE_19_23',\n",
       " 'USA_ANDROID_FEMALE_0_18',\n",
       " 'BRA_IOS_MALE_19_23',\n",
       " 'USA_ANDROID_MALE_19_23',\n",
       " 'TUR_IOS_MALE_0_18',\n",
       " 'USA_ANDROID_FEMALE_24_30',\n",
       " 'USA_IOS_MALE_0_18',\n",
       " 'BRA_IOS_MALE_31_40',\n",
       " 'USA_ANDROID_MALE_19_23',\n",
       " 'USA_ANDROID_MALE_31_40',\n",
       " 'USA_ANDROID_MALE_31_40',\n",
       " 'USA_IOS_FEMALE_41_70',\n",
       " 'USA_ANDROID_MALE_0_18',\n",
       " 'FRA_ANDROID_FEMALE_0_18',\n",
       " 'USA_ANDROID_FEMALE_0_18',\n",
       " 'USA_IOS_MALE_0_18',\n",
       " 'BRA_ANDROID_FEMALE_31_40',\n",
       " 'USA_IOS_FEMALE_31_40',\n",
       " 'TUR_ANDROID_FEMALE_0_18',\n",
       " 'DEU_ANDROID_FEMALE_24_30',\n",
       " 'USA_ANDROID_MALE_0_18',\n",
       " 'USA_ANDROID_MALE_24_30',\n",
       " 'BRA_IOS_FEMALE_24_30',\n",
       " 'USA_ANDROID_FEMALE_19_23',\n",
       " 'BRA_IOS_FEMALE_41_70',\n",
       " 'DEU_ANDROID_FEMALE_19_23',\n",
       " 'USA_IOS_MALE_24_30',\n",
       " 'FRA_IOS_MALE_24_30',\n",
       " 'BRA_IOS_FEMALE_24_30',\n",
       " 'CAN_ANDROID_FEMALE_41_70',\n",
       " 'USA_IOS_FEMALE_19_23',\n",
       " 'USA_IOS_MALE_19_23',\n",
       " 'BRA_IOS_MALE_19_23',\n",
       " 'TUR_IOS_FEMALE_19_23',\n",
       " 'TUR_IOS_FEMALE_24_30',\n",
       " 'TUR_IOS_FEMALE_24_30',\n",
       " 'DEU_IOS_FEMALE_19_23',\n",
       " 'TUR_IOS_FEMALE_41_70',\n",
       " 'DEU_ANDROID_MALE_19_23',\n",
       " 'BRA_IOS_FEMALE_24_30',\n",
       " 'USA_ANDROID_MALE_0_18',\n",
       " 'USA_IOS_MALE_41_70',\n",
       " 'USA_ANDROID_FEMALE_41_70',\n",
       " 'FRA_ANDROID_FEMALE_31_40',\n",
       " 'USA_ANDROID_MALE_24_30',\n",
       " 'USA_ANDROID_FEMALE_24_30',\n",
       " 'DEU_IOS_FEMALE_19_23',\n",
       " 'BRA_IOS_MALE_24_30',\n",
       " 'USA_IOS_FEMALE_0_18',\n",
       " 'USA_ANDROID_FEMALE_19_23',\n",
       " 'BRA_IOS_MALE_0_18',\n",
       " 'DEU_ANDROID_FEMALE_0_18',\n",
       " 'BRA_ANDROID_FEMALE_31_40',\n",
       " 'USA_IOS_MALE_0_18',\n",
       " 'CAN_IOS_FEMALE_0_18',\n",
       " 'TUR_ANDROID_FEMALE_0_18',\n",
       " 'BRA_IOS_FEMALE_0_18',\n",
       " 'FRA_IOS_FEMALE_0_18',\n",
       " 'BRA_ANDROID_FEMALE_41_70',\n",
       " 'BRA_IOS_MALE_41_70',\n",
       " 'USA_ANDROID_MALE_24_30',\n",
       " 'BRA_ANDROID_FEMALE_24_30',\n",
       " 'USA_ANDROID_FEMALE_19_23',\n",
       " 'BRA_ANDROID_MALE_0_18',\n",
       " 'BRA_IOS_FEMALE_41_70',\n",
       " 'USA_ANDROID_MALE_41_70',\n",
       " 'FRA_IOS_FEMALE_31_40',\n",
       " 'FRA_ANDROID_MALE_24_30',\n",
       " 'DEU_IOS_FEMALE_31_40',\n",
       " 'USA_IOS_FEMALE_0_18',\n",
       " 'DEU_ANDROID_MALE_0_18',\n",
       " 'USA_IOS_MALE_0_18',\n",
       " 'BRA_IOS_FEMALE_19_23',\n",
       " 'TUR_IOS_MALE_0_18',\n",
       " 'USA_ANDROID_MALE_19_23',\n",
       " 'USA_IOS_FEMALE_19_23',\n",
       " 'USA_IOS_FEMALE_24_30',\n",
       " 'BRA_IOS_MALE_0_18',\n",
       " 'USA_ANDROID_FEMALE_0_18',\n",
       " 'FRA_IOS_FEMALE_31_40',\n",
       " 'BRA_IOS_FEMALE_0_18',\n",
       " 'TUR_IOS_FEMALE_19_23',\n",
       " 'BRA_ANDROID_MALE_24_30',\n",
       " 'FRA_IOS_FEMALE_0_18',\n",
       " 'CAN_ANDROID_FEMALE_19_23',\n",
       " 'USA_ANDROID_FEMALE_0_18',\n",
       " 'DEU_ANDROID_MALE_0_18',\n",
       " 'USA_ANDROID_MALE_19_23',\n",
       " 'DEU_ANDROID_FEMALE_31_40',\n",
       " 'USA_ANDROID_FEMALE_41_70',\n",
       " 'FRA_ANDROID_MALE_31_40',\n",
       " 'DEU_ANDROID_FEMALE_24_30',\n",
       " 'FRA_ANDROID_MALE_41_70',\n",
       " 'BRA_IOS_FEMALE_24_30',\n",
       " 'DEU_ANDROID_MALE_31_40',\n",
       " 'TUR_ANDROID_FEMALE_19_23',\n",
       " 'TUR_ANDROID_FEMALE_41_70',\n",
       " 'BRA_ANDROID_FEMALE_41_70',\n",
       " 'BRA_IOS_FEMALE_31_40',\n",
       " 'BRA_ANDROID_FEMALE_0_18',\n",
       " 'USA_IOS_MALE_19_23',\n",
       " 'FRA_ANDROID_FEMALE_19_23',\n",
       " 'DEU_ANDROID_FEMALE_24_30',\n",
       " 'DEU_ANDROID_FEMALE_0_18',\n",
       " 'BRA_ANDROID_FEMALE_19_23',\n",
       " 'USA_IOS_MALE_24_30',\n",
       " 'BRA_ANDROID_MALE_31_40',\n",
       " 'FRA_ANDROID_FEMALE_24_30',\n",
       " 'USA_IOS_MALE_31_40',\n",
       " 'CAN_IOS_FEMALE_24_30',\n",
       " 'CAN_ANDROID_FEMALE_19_23',\n",
       " 'USA_IOS_FEMALE_24_30',\n",
       " 'BRA_ANDROID_MALE_31_40',\n",
       " 'USA_IOS_FEMALE_0_18',\n",
       " 'DEU_ANDROID_FEMALE_41_70',\n",
       " 'DEU_IOS_MALE_31_40',\n",
       " 'USA_ANDROID_FEMALE_19_23',\n",
       " 'DEU_ANDROID_MALE_19_23',\n",
       " 'CAN_IOS_MALE_24_30',\n",
       " 'TUR_IOS_MALE_41_70',\n",
       " 'CAN_IOS_MALE_41_70',\n",
       " 'BRA_ANDROID_MALE_19_23',\n",
       " 'DEU_ANDROID_FEMALE_19_23',\n",
       " 'BRA_IOS_MALE_19_23',\n",
       " 'BRA_ANDROID_FEMALE_19_23',\n",
       " 'TUR_ANDROID_FEMALE_19_23',\n",
       " 'DEU_IOS_MALE_24_30',\n",
       " 'USA_IOS_FEMALE_31_40',\n",
       " 'USA_ANDROID_FEMALE_24_30',\n",
       " 'DEU_IOS_FEMALE_0_18',\n",
       " 'FRA_IOS_MALE_0_18',\n",
       " 'BRA_ANDROID_MALE_24_30',\n",
       " 'BRA_IOS_FEMALE_24_30',\n",
       " 'BRA_IOS_MALE_41_70',\n",
       " 'FRA_IOS_FEMALE_24_30',\n",
       " 'USA_IOS_FEMALE_41_70',\n",
       " 'USA_IOS_MALE_31_40',\n",
       " 'USA_IOS_MALE_41_70',\n",
       " 'FRA_ANDROID_MALE_0_18',\n",
       " 'TUR_IOS_FEMALE_0_18',\n",
       " 'BRA_IOS_MALE_41_70',\n",
       " 'USA_ANDROID_FEMALE_24_30',\n",
       " 'CAN_ANDROID_MALE_24_30',\n",
       " 'BRA_IOS_FEMALE_19_23',\n",
       " 'BRA_ANDROID_MALE_24_30',\n",
       " 'CAN_ANDROID_FEMALE_0_18',\n",
       " 'BRA_ANDROID_MALE_0_18',\n",
       " 'USA_IOS_FEMALE_31_40',\n",
       " 'FRA_IOS_MALE_0_18',\n",
       " 'FRA_IOS_MALE_24_30',\n",
       " 'BRA_ANDROID_MALE_41_70',\n",
       " 'FRA_IOS_MALE_31_40',\n",
       " 'CAN_IOS_MALE_31_40',\n",
       " 'USA_IOS_FEMALE_41_70',\n",
       " 'CAN_IOS_FEMALE_0_18',\n",
       " 'DEU_IOS_MALE_19_23',\n",
       " 'DEU_IOS_FEMALE_24_30',\n",
       " 'DEU_ANDROID_MALE_31_40',\n",
       " 'DEU_ANDROID_MALE_24_30',\n",
       " 'DEU_ANDROID_FEMALE_31_40',\n",
       " 'USA_IOS_MALE_41_70',\n",
       " 'TUR_ANDROID_FEMALE_41_70',\n",
       " 'BRA_IOS_MALE_31_40',\n",
       " 'USA_ANDROID_MALE_31_40',\n",
       " 'USA_ANDROID_MALE_41_70',\n",
       " 'USA_ANDROID_FEMALE_24_30',\n",
       " 'USA_ANDROID_MALE_31_40',\n",
       " 'USA_ANDROID_MALE_31_40',\n",
       " 'BRA_IOS_MALE_31_40',\n",
       " 'USA_ANDROID_FEMALE_24_30',\n",
       " 'TUR_ANDROID_MALE_31_40',\n",
       " 'TUR_IOS_FEMALE_0_18',\n",
       " 'BRA_ANDROID_MALE_24_30',\n",
       " 'USA_ANDROID_FEMALE_31_40',\n",
       " 'USA_ANDROID_FEMALE_31_40',\n",
       " 'DEU_ANDROID_FEMALE_41_70',\n",
       " 'FRA_IOS_FEMALE_0_18',\n",
       " 'BRA_IOS_FEMALE_31_40',\n",
       " 'TUR_IOS_MALE_19_23',\n",
       " 'FRA_ANDROID_FEMALE_19_23',\n",
       " 'DEU_ANDROID_FEMALE_0_18',\n",
       " 'BRA_ANDROID_FEMALE_24_30',\n",
       " 'USA_ANDROID_MALE_24_30',\n",
       " 'CAN_ANDROID_FEMALE_0_18',\n",
       " 'TUR_IOS_FEMALE_31_40',\n",
       " 'FRA_ANDROID_MALE_19_23',\n",
       " 'USA_ANDROID_MALE_41_70',\n",
       " 'FRA_IOS_FEMALE_24_30',\n",
       " 'BRA_ANDROID_FEMALE_31_40',\n",
       " 'TUR_ANDROID_FEMALE_24_30',\n",
       " 'USA_IOS_MALE_31_40',\n",
       " 'USA_IOS_MALE_24_30',\n",
       " 'BRA_ANDROID_FEMALE_24_30',\n",
       " 'TUR_IOS_MALE_19_23',\n",
       " 'USA_ANDROID_MALE_24_30',\n",
       " 'BRA_IOS_MALE_31_40',\n",
       " 'BRA_ANDROID_MALE_19_23',\n",
       " 'TUR_ANDROID_MALE_19_23',\n",
       " 'TUR_IOS_MALE_41_70',\n",
       " 'BRA_IOS_FEMALE_31_40',\n",
       " 'BRA_IOS_MALE_41_70',\n",
       " 'USA_IOS_FEMALE_31_40',\n",
       " 'USA_IOS_FEMALE_24_30',\n",
       " 'CAN_ANDROID_FEMALE_24_30',\n",
       " 'FRA_ANDROID_MALE_0_18',\n",
       " 'DEU_ANDROID_MALE_24_30']"
      ]
     },
     "execution_count": 18,
     "metadata": {},
     "output_type": "execute_result"
    }
   ],
   "source": [
    "customer_level_based = [agg_df[\"COUNTRY\"][i].upper() + \"_\" + agg_df[\"SOURCE\"][i].upper() + \"_\"+ agg_df[\"SEX\"][i].upper() + \"_\" + agg_df[\"AGE_CAT\"][i].upper() for i in range(len(agg_df))]\n",
    "customer_level_based"
   ]
  },
  {
   "cell_type": "code",
   "execution_count": 19,
   "id": "5bfebaa0",
   "metadata": {},
   "outputs": [],
   "source": [
    "agg_df[\"customer_level_based\"] = customer_level_based"
   ]
  },
  {
   "cell_type": "code",
   "execution_count": 20,
   "id": "b359f9cd",
   "metadata": {},
   "outputs": [],
   "source": [
    "agg_df = agg_df.groupby(\"customer_level_based\").agg({\"PRICE\":\"mean\"})"
   ]
  },
  {
   "cell_type": "code",
   "execution_count": 26,
   "id": "c3455137",
   "metadata": {},
   "outputs": [],
   "source": [
    "agg_df.reset_index(inplace=True)"
   ]
  },
  {
   "cell_type": "code",
   "execution_count": 28,
   "id": "71efe89b",
   "metadata": {},
   "outputs": [
    {
     "data": {
      "text/html": [
       "<div>\n",
       "<style scoped>\n",
       "    .dataframe tbody tr th:only-of-type {\n",
       "        vertical-align: middle;\n",
       "    }\n",
       "\n",
       "    .dataframe tbody tr th {\n",
       "        vertical-align: top;\n",
       "    }\n",
       "\n",
       "    .dataframe thead th {\n",
       "        text-align: right;\n",
       "    }\n",
       "</style>\n",
       "<table border=\"1\" class=\"dataframe\">\n",
       "  <thead>\n",
       "    <tr style=\"text-align: right;\">\n",
       "      <th></th>\n",
       "      <th>customer_level_based</th>\n",
       "      <th>PRICE</th>\n",
       "    </tr>\n",
       "  </thead>\n",
       "  <tbody>\n",
       "    <tr>\n",
       "      <th>0</th>\n",
       "      <td>BRA_ANDROID_FEMALE_0_18</td>\n",
       "      <td>35.645303</td>\n",
       "    </tr>\n",
       "    <tr>\n",
       "      <th>1</th>\n",
       "      <td>BRA_ANDROID_FEMALE_19_23</td>\n",
       "      <td>34.077340</td>\n",
       "    </tr>\n",
       "    <tr>\n",
       "      <th>2</th>\n",
       "      <td>BRA_ANDROID_FEMALE_24_30</td>\n",
       "      <td>33.863946</td>\n",
       "    </tr>\n",
       "    <tr>\n",
       "      <th>3</th>\n",
       "      <td>BRA_ANDROID_FEMALE_31_40</td>\n",
       "      <td>34.898326</td>\n",
       "    </tr>\n",
       "    <tr>\n",
       "      <th>4</th>\n",
       "      <td>BRA_ANDROID_FEMALE_41_70</td>\n",
       "      <td>36.737179</td>\n",
       "    </tr>\n",
       "  </tbody>\n",
       "</table>\n",
       "</div>"
      ],
      "text/plain": [
       "       customer_level_based      PRICE\n",
       "0   BRA_ANDROID_FEMALE_0_18  35.645303\n",
       "1  BRA_ANDROID_FEMALE_19_23  34.077340\n",
       "2  BRA_ANDROID_FEMALE_24_30  33.863946\n",
       "3  BRA_ANDROID_FEMALE_31_40  34.898326\n",
       "4  BRA_ANDROID_FEMALE_41_70  36.737179"
      ]
     },
     "execution_count": 28,
     "metadata": {},
     "output_type": "execute_result"
    }
   ],
   "source": [
    "agg_df.head()"
   ]
  },
  {
   "cell_type": "markdown",
   "id": "fa05c2bf",
   "metadata": {},
   "source": [
    "### Görev 7: Yeni müşterileri (personaları) segmentlere ayırınız.\n",
    "###### • Yeni müşterileri (Örnek: USA_ANDROID_MALE_0_18) PRICE’a göre 4 segmente ayırınız.\n",
    "###### • Segmentleri SEGMENT isimlendirmesi ile değişken olarak agg_df’e ekleyiniz.\n",
    "###### • Segmentleri betimleyiniz (Segmentlere göre group by yapıp price mean, max, sum’larını alınız)."
   ]
  },
  {
   "cell_type": "code",
   "execution_count": 29,
   "id": "ecb729dd",
   "metadata": {},
   "outputs": [
    {
     "data": {
      "text/html": [
       "<div>\n",
       "<style scoped>\n",
       "    .dataframe tbody tr th:only-of-type {\n",
       "        vertical-align: middle;\n",
       "    }\n",
       "\n",
       "    .dataframe tbody tr th {\n",
       "        vertical-align: top;\n",
       "    }\n",
       "\n",
       "    .dataframe thead th {\n",
       "        text-align: right;\n",
       "    }\n",
       "</style>\n",
       "<table border=\"1\" class=\"dataframe\">\n",
       "  <thead>\n",
       "    <tr style=\"text-align: right;\">\n",
       "      <th></th>\n",
       "      <th>customer_level_based</th>\n",
       "      <th>PRICE</th>\n",
       "      <th>SEGMENT</th>\n",
       "    </tr>\n",
       "  </thead>\n",
       "  <tbody>\n",
       "    <tr>\n",
       "      <th>0</th>\n",
       "      <td>BRA_ANDROID_FEMALE_0_18</td>\n",
       "      <td>35.645303</td>\n",
       "      <td>B</td>\n",
       "    </tr>\n",
       "    <tr>\n",
       "      <th>1</th>\n",
       "      <td>BRA_ANDROID_FEMALE_19_23</td>\n",
       "      <td>34.077340</td>\n",
       "      <td>C</td>\n",
       "    </tr>\n",
       "    <tr>\n",
       "      <th>2</th>\n",
       "      <td>BRA_ANDROID_FEMALE_24_30</td>\n",
       "      <td>33.863946</td>\n",
       "      <td>C</td>\n",
       "    </tr>\n",
       "    <tr>\n",
       "      <th>3</th>\n",
       "      <td>BRA_ANDROID_FEMALE_31_40</td>\n",
       "      <td>34.898326</td>\n",
       "      <td>B</td>\n",
       "    </tr>\n",
       "    <tr>\n",
       "      <th>4</th>\n",
       "      <td>BRA_ANDROID_FEMALE_41_70</td>\n",
       "      <td>36.737179</td>\n",
       "      <td>A</td>\n",
       "    </tr>\n",
       "  </tbody>\n",
       "</table>\n",
       "</div>"
      ],
      "text/plain": [
       "       customer_level_based      PRICE SEGMENT\n",
       "0   BRA_ANDROID_FEMALE_0_18  35.645303       B\n",
       "1  BRA_ANDROID_FEMALE_19_23  34.077340       C\n",
       "2  BRA_ANDROID_FEMALE_24_30  33.863946       C\n",
       "3  BRA_ANDROID_FEMALE_31_40  34.898326       B\n",
       "4  BRA_ANDROID_FEMALE_41_70  36.737179       A"
      ]
     },
     "execution_count": 29,
     "metadata": {},
     "output_type": "execute_result"
    }
   ],
   "source": [
    "agg_df[\"SEGMENT\"] = pd.qcut(agg_df[\"PRICE\"],4,labels=[\"D\",\"C\",\"B\",\"A\"])\n",
    "agg_df.head()"
   ]
  },
  {
   "cell_type": "code",
   "execution_count": 30,
   "id": "4b5cea4f",
   "metadata": {},
   "outputs": [
    {
     "data": {
      "text/html": [
       "<div>\n",
       "<style scoped>\n",
       "    .dataframe tbody tr th:only-of-type {\n",
       "        vertical-align: middle;\n",
       "    }\n",
       "\n",
       "    .dataframe tbody tr th {\n",
       "        vertical-align: top;\n",
       "    }\n",
       "\n",
       "    .dataframe thead tr th {\n",
       "        text-align: left;\n",
       "    }\n",
       "\n",
       "    .dataframe thead tr:last-of-type th {\n",
       "        text-align: right;\n",
       "    }\n",
       "</style>\n",
       "<table border=\"1\" class=\"dataframe\">\n",
       "  <thead>\n",
       "    <tr>\n",
       "      <th></th>\n",
       "      <th colspan=\"3\" halign=\"left\">PRICE</th>\n",
       "    </tr>\n",
       "    <tr>\n",
       "      <th></th>\n",
       "      <th>mean</th>\n",
       "      <th>max</th>\n",
       "      <th>sum</th>\n",
       "    </tr>\n",
       "    <tr>\n",
       "      <th>SEGMENT</th>\n",
       "      <th></th>\n",
       "      <th></th>\n",
       "      <th></th>\n",
       "    </tr>\n",
       "  </thead>\n",
       "  <tbody>\n",
       "    <tr>\n",
       "      <th>D</th>\n",
       "      <td>29.206780</td>\n",
       "      <td>32.333333</td>\n",
       "      <td>817.789833</td>\n",
       "    </tr>\n",
       "    <tr>\n",
       "      <th>C</th>\n",
       "      <td>33.509674</td>\n",
       "      <td>34.077340</td>\n",
       "      <td>904.761209</td>\n",
       "    </tr>\n",
       "    <tr>\n",
       "      <th>B</th>\n",
       "      <td>34.999645</td>\n",
       "      <td>36.000000</td>\n",
       "      <td>944.990411</td>\n",
       "    </tr>\n",
       "    <tr>\n",
       "      <th>A</th>\n",
       "      <td>38.691234</td>\n",
       "      <td>45.428571</td>\n",
       "      <td>1044.663328</td>\n",
       "    </tr>\n",
       "  </tbody>\n",
       "</table>\n",
       "</div>"
      ],
      "text/plain": [
       "             PRICE                        \n",
       "              mean        max          sum\n",
       "SEGMENT                                   \n",
       "D        29.206780  32.333333   817.789833\n",
       "C        33.509674  34.077340   904.761209\n",
       "B        34.999645  36.000000   944.990411\n",
       "A        38.691234  45.428571  1044.663328"
      ]
     },
     "execution_count": 30,
     "metadata": {},
     "output_type": "execute_result"
    }
   ],
   "source": [
    "agg_df.groupby(\"SEGMENT\").agg({\"PRICE\":[\"mean\",\"max\",\"sum\"]})"
   ]
  },
  {
   "cell_type": "markdown",
   "id": "abf3b4a6",
   "metadata": {},
   "source": [
    "### Görev 8: Yeni gelen müşterileri sınıflandırıp, ne kadar gelir getirebileceklerini tahmin ediniz.\n",
    "###### • 33 yaşında ANDROID kullanan bir Türk kadını hangi segmente aittir ve ortalama ne kadar gelir kazandırması beklenir?\n",
    "###### • 35 yaşında IOS kullanan bir Fransız kadını hangi segmente aittir ve ortalama ne kadar gelir kazandırması beklenir?"
   ]
  },
  {
   "cell_type": "code",
   "execution_count": 31,
   "id": "0d64058c",
   "metadata": {},
   "outputs": [],
   "source": [
    "new_user = \"TUR_ANDROID_FEMALE_31_40\""
   ]
  },
  {
   "cell_type": "code",
   "execution_count": 32,
   "id": "2a585725",
   "metadata": {},
   "outputs": [
    {
     "data": {
      "text/html": [
       "<div>\n",
       "<style scoped>\n",
       "    .dataframe tbody tr th:only-of-type {\n",
       "        vertical-align: middle;\n",
       "    }\n",
       "\n",
       "    .dataframe tbody tr th {\n",
       "        vertical-align: top;\n",
       "    }\n",
       "\n",
       "    .dataframe thead th {\n",
       "        text-align: right;\n",
       "    }\n",
       "</style>\n",
       "<table border=\"1\" class=\"dataframe\">\n",
       "  <thead>\n",
       "    <tr style=\"text-align: right;\">\n",
       "      <th></th>\n",
       "      <th>customer_level_based</th>\n",
       "      <th>PRICE</th>\n",
       "      <th>SEGMENT</th>\n",
       "    </tr>\n",
       "  </thead>\n",
       "  <tbody>\n",
       "    <tr>\n",
       "      <th>72</th>\n",
       "      <td>TUR_ANDROID_FEMALE_31_40</td>\n",
       "      <td>41.833333</td>\n",
       "      <td>A</td>\n",
       "    </tr>\n",
       "  </tbody>\n",
       "</table>\n",
       "</div>"
      ],
      "text/plain": [
       "        customer_level_based      PRICE SEGMENT\n",
       "72  TUR_ANDROID_FEMALE_31_40  41.833333       A"
      ]
     },
     "execution_count": 32,
     "metadata": {},
     "output_type": "execute_result"
    }
   ],
   "source": [
    "agg_df[agg_df[\"customer_level_based\"] == new_user]"
   ]
  },
  {
   "cell_type": "code",
   "execution_count": 33,
   "id": "118d2a3e",
   "metadata": {},
   "outputs": [],
   "source": [
    "new_user2 = \"FRA_IOS_FEMALE_31_40\""
   ]
  },
  {
   "cell_type": "code",
   "execution_count": 34,
   "id": "fd05c747",
   "metadata": {},
   "outputs": [
    {
     "data": {
      "text/html": [
       "<div>\n",
       "<style scoped>\n",
       "    .dataframe tbody tr th:only-of-type {\n",
       "        vertical-align: middle;\n",
       "    }\n",
       "\n",
       "    .dataframe tbody tr th {\n",
       "        vertical-align: top;\n",
       "    }\n",
       "\n",
       "    .dataframe thead th {\n",
       "        text-align: right;\n",
       "    }\n",
       "</style>\n",
       "<table border=\"1\" class=\"dataframe\">\n",
       "  <thead>\n",
       "    <tr style=\"text-align: right;\">\n",
       "      <th></th>\n",
       "      <th>customer_level_based</th>\n",
       "      <th>PRICE</th>\n",
       "      <th>SEGMENT</th>\n",
       "    </tr>\n",
       "  </thead>\n",
       "  <tbody>\n",
       "    <tr>\n",
       "      <th>63</th>\n",
       "      <td>FRA_IOS_FEMALE_31_40</td>\n",
       "      <td>32.818182</td>\n",
       "      <td>C</td>\n",
       "    </tr>\n",
       "  </tbody>\n",
       "</table>\n",
       "</div>"
      ],
      "text/plain": [
       "    customer_level_based      PRICE SEGMENT\n",
       "63  FRA_IOS_FEMALE_31_40  32.818182       C"
      ]
     },
     "execution_count": 34,
     "metadata": {},
     "output_type": "execute_result"
    }
   ],
   "source": [
    "agg_df[agg_df[\"customer_level_based\"] == new_user2]"
   ]
  },
  {
   "cell_type": "code",
   "execution_count": null,
   "id": "103489f5",
   "metadata": {},
   "outputs": [],
   "source": []
  }
 ],
 "metadata": {
  "kernelspec": {
   "display_name": "Python 3 (ipykernel)",
   "language": "python",
   "name": "python3"
  },
  "language_info": {
   "codemirror_mode": {
    "name": "ipython",
    "version": 3
   },
   "file_extension": ".py",
   "mimetype": "text/x-python",
   "name": "python",
   "nbconvert_exporter": "python",
   "pygments_lexer": "ipython3",
   "version": "3.9.13"
  }
 },
 "nbformat": 4,
 "nbformat_minor": 5
}
