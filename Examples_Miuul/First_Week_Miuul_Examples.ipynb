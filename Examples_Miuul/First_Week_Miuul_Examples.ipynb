{
 "cells": [
  {
   "cell_type": "markdown",
   "id": "dbc02375",
   "metadata": {},
   "source": [
    "#                                        İlk Hafta Uygulamaları"
   ]
  },
  {
   "cell_type": "markdown",
   "id": "b6bd01b3",
   "metadata": {},
   "source": [
    "###### Görev 1:Verilen değerlerin veri yapılarını inceleyiniz"
   ]
  },
  {
   "cell_type": "code",
   "execution_count": 1,
   "id": "c673fbd1",
   "metadata": {},
   "outputs": [
    {
     "data": {
      "text/plain": [
       "int"
      ]
     },
     "execution_count": 1,
     "metadata": {},
     "output_type": "execute_result"
    }
   ],
   "source": [
    "x = 8 \n",
    "type(x)"
   ]
  },
  {
   "cell_type": "code",
   "execution_count": 2,
   "id": "536ba0b9",
   "metadata": {},
   "outputs": [
    {
     "data": {
      "text/plain": [
       "float"
      ]
     },
     "execution_count": 2,
     "metadata": {},
     "output_type": "execute_result"
    }
   ],
   "source": [
    "y = 3.2\n",
    "type(y)"
   ]
  },
  {
   "cell_type": "code",
   "execution_count": 3,
   "id": "f56ab51c",
   "metadata": {},
   "outputs": [
    {
     "data": {
      "text/plain": [
       "complex"
      ]
     },
     "execution_count": 3,
     "metadata": {},
     "output_type": "execute_result"
    }
   ],
   "source": [
    "z = 8j + 18\n",
    "type(z)"
   ]
  },
  {
   "cell_type": "code",
   "execution_count": 4,
   "id": "3732b3bc",
   "metadata": {},
   "outputs": [
    {
     "data": {
      "text/plain": [
       "str"
      ]
     },
     "execution_count": 4,
     "metadata": {},
     "output_type": "execute_result"
    }
   ],
   "source": [
    "a = \"Hello World\"\n",
    "type(a)"
   ]
  },
  {
   "cell_type": "code",
   "execution_count": 5,
   "id": "782cec59",
   "metadata": {},
   "outputs": [
    {
     "data": {
      "text/plain": [
       "bool"
      ]
     },
     "execution_count": 5,
     "metadata": {},
     "output_type": "execute_result"
    }
   ],
   "source": [
    "b = True\n",
    "type(b)"
   ]
  },
  {
   "cell_type": "code",
   "execution_count": 6,
   "id": "2136f8c5",
   "metadata": {},
   "outputs": [
    {
     "data": {
      "text/plain": [
       "bool"
      ]
     },
     "execution_count": 6,
     "metadata": {},
     "output_type": "execute_result"
    }
   ],
   "source": [
    "c = 23 < 24\n",
    "type(c)"
   ]
  },
  {
   "cell_type": "code",
   "execution_count": 7,
   "id": "5b240af7",
   "metadata": {},
   "outputs": [
    {
     "data": {
      "text/plain": [
       "list"
      ]
     },
     "execution_count": 7,
     "metadata": {},
     "output_type": "execute_result"
    }
   ],
   "source": [
    "l = [1,2,3,4]\n",
    "type(l)"
   ]
  },
  {
   "cell_type": "code",
   "execution_count": 8,
   "id": "365f60a8",
   "metadata": {},
   "outputs": [
    {
     "data": {
      "text/plain": [
       "dict"
      ]
     },
     "execution_count": 8,
     "metadata": {},
     "output_type": "execute_result"
    }
   ],
   "source": [
    "d = {\"Name\":\"jake\",\n",
    "     \"age\":27,\n",
    "     \"Adress\":\"DownTown\"}\n",
    "type(d)"
   ]
  },
  {
   "cell_type": "code",
   "execution_count": 9,
   "id": "24408eee",
   "metadata": {},
   "outputs": [
    {
     "data": {
      "text/plain": [
       "tuple"
      ]
     },
     "execution_count": 9,
     "metadata": {},
     "output_type": "execute_result"
    }
   ],
   "source": [
    "t = (\"Machine Learning\",\"Data Science\")\n",
    "type(t)"
   ]
  },
  {
   "cell_type": "code",
   "execution_count": 10,
   "id": "bf41ed9c",
   "metadata": {},
   "outputs": [
    {
     "data": {
      "text/plain": [
       "set"
      ]
     },
     "execution_count": 10,
     "metadata": {},
     "output_type": "execute_result"
    }
   ],
   "source": [
    "s = {\"Python\",\"Machine Learninig\",\"Data Science\"}\n",
    "type(s)"
   ]
  },
  {
   "cell_type": "code",
   "execution_count": null,
   "id": "37a7352c",
   "metadata": {},
   "outputs": [],
   "source": []
  },
  {
   "cell_type": "markdown",
   "id": "dc48f3b9",
   "metadata": {},
   "source": [
    "###### Görev 2:Verilen string ifadenin tüm harflerini büyük harfe çeviriniz. Virgül ve nokta yerine space koyunuz, kelime kelime ayırınız."
   ]
  },
  {
   "cell_type": "code",
   "execution_count": 11,
   "id": "ef033e08",
   "metadata": {},
   "outputs": [
    {
     "data": {
      "text/plain": [
       "['THE',\n",
       " 'GOAL',\n",
       " 'IS',\n",
       " 'TO',\n",
       " 'TURN',\n",
       " 'DATA',\n",
       " 'INTO',\n",
       " 'INFORMATION',\n",
       " 'AND',\n",
       " 'INFORMATION',\n",
       " 'INTO',\n",
       " 'INSIGHT']"
      ]
     },
     "execution_count": 11,
     "metadata": {},
     "output_type": "execute_result"
    }
   ],
   "source": [
    "text = \"The Goal is to turn data into information , and information into insight\"\n",
    "text.upper().replace(\",\",\" \").replace(\".\",\" \").split()"
   ]
  },
  {
   "cell_type": "code",
   "execution_count": null,
   "id": "60b98006",
   "metadata": {},
   "outputs": [],
   "source": []
  },
  {
   "cell_type": "markdown",
   "id": "bb7a39d0",
   "metadata": {},
   "source": [
    "###### Görev 3: Verilen listeye aşağıdaki adımları uygulayınız"
   ]
  },
  {
   "cell_type": "code",
   "execution_count": 12,
   "id": "651dfc09",
   "metadata": {},
   "outputs": [],
   "source": [
    "lst = [\"D\",\"A\",\"T\",\"A\",\"S\",\"C\",\"I\",\"E\",\"N\",\"C\",\"E\"]"
   ]
  },
  {
   "cell_type": "markdown",
   "id": "8d4bcef5",
   "metadata": {},
   "source": [
    "###### Adım 1: Verilen listenin eleman sayısına bakınız.\n",
    "###### Adım 2: Sıfırıncı ve onuncu indeksteki elemanları çağırınız.\n",
    "###### Adım 3: Verilen liste üzerinden [\"D\", \"A\", \"T\", \"A\"] listesi oluşturunuz.\n",
    "###### Adım 4: Sekizinci indeksteki elemanı siliniz.\n",
    "###### Adım 5: Yeni bir eleman ekleyiniz.\n",
    "###### Adım 6: Sekizinci indekse \"N\" elemanını tekrar ekleyiniz."
   ]
  },
  {
   "cell_type": "code",
   "execution_count": 13,
   "id": "88664b51",
   "metadata": {},
   "outputs": [
    {
     "data": {
      "text/plain": [
       "11"
      ]
     },
     "execution_count": 13,
     "metadata": {},
     "output_type": "execute_result"
    }
   ],
   "source": [
    "# Adım 1\n",
    "len(lst)"
   ]
  },
  {
   "cell_type": "code",
   "execution_count": 18,
   "id": "8514e1db",
   "metadata": {},
   "outputs": [
    {
     "data": {
      "text/plain": [
       "('D', 'E')"
      ]
     },
     "execution_count": 18,
     "metadata": {},
     "output_type": "execute_result"
    }
   ],
   "source": [
    "#Adım 2\n",
    "lst[0] , lst[10]"
   ]
  },
  {
   "cell_type": "code",
   "execution_count": 21,
   "id": "d067a9f5",
   "metadata": {},
   "outputs": [
    {
     "data": {
      "text/plain": [
       "['D', 'A', 'T', 'A']"
      ]
     },
     "execution_count": 21,
     "metadata": {},
     "output_type": "execute_result"
    }
   ],
   "source": [
    "#Adım 3\n",
    "lst[0:4]"
   ]
  },
  {
   "cell_type": "code",
   "execution_count": 31,
   "id": "7794395c",
   "metadata": {},
   "outputs": [
    {
     "data": {
      "text/plain": [
       "['D', 'A', 'T', 'A', 'S', 'C', 'I', 'E', 'C', 'E']"
      ]
     },
     "execution_count": 31,
     "metadata": {},
     "output_type": "execute_result"
    }
   ],
   "source": [
    "#Adım 4\n",
    "lst.pop(8)\n",
    "lst"
   ]
  },
  {
   "cell_type": "code",
   "execution_count": 32,
   "id": "c962b21c",
   "metadata": {},
   "outputs": [],
   "source": [
    "#Adım 5\n",
    "lst.append(\"Ali Can\")"
   ]
  },
  {
   "cell_type": "code",
   "execution_count": 33,
   "id": "04ba11e1",
   "metadata": {},
   "outputs": [
    {
     "data": {
      "text/plain": [
       "['D', 'A', 'T', 'A', 'S', 'C', 'I', 'E', 'N', 'C', 'E', 'Ali Can']"
      ]
     },
     "execution_count": 33,
     "metadata": {},
     "output_type": "execute_result"
    }
   ],
   "source": [
    "#Adım 6\n",
    "lst.insert(8,\"N\")\n",
    "lst"
   ]
  },
  {
   "cell_type": "code",
   "execution_count": null,
   "id": "1d108dad",
   "metadata": {},
   "outputs": [],
   "source": []
  },
  {
   "cell_type": "markdown",
   "id": "2a0329d9",
   "metadata": {},
   "source": [
    "###### Görev 4: Verilen sözlük yapısına aşağıdaki adımları uygulayınız."
   ]
  },
  {
   "cell_type": "code",
   "execution_count": 47,
   "id": "e44d5e3d",
   "metadata": {},
   "outputs": [],
   "source": [
    "dict = {\"Chiristian\":[\"America\",18],\n",
    "        \"Daisy\":[\"England\",12],\n",
    "        \"Antonio\":[\"Spain\",22],\n",
    "        \"Dante\":[\"Italy\",25]}"
   ]
  },
  {
   "cell_type": "markdown",
   "id": "9ffaad28",
   "metadata": {},
   "source": [
    "###### Adım 1: Key değerlerine erişiniz.\n",
    "###### Adım 2: Value'lara erişiniz.\n",
    "###### Adım 3: Daisy key'ine ait 12 değerini 13 olarak güncelleyiniz.\n",
    "###### Adım 4: Key değeri Ahmet value değeri [Turkey,24] olan yeni bir değer ekleyiniz.\n",
    "###### Adım 5: Antonio'yu dictionary'den siliniz"
   ]
  },
  {
   "cell_type": "code",
   "execution_count": 35,
   "id": "fff4be38",
   "metadata": {},
   "outputs": [
    {
     "data": {
      "text/plain": [
       "dict_keys(['Chiristian', 'Daisy', 'Antonio', 'Dante'])"
      ]
     },
     "execution_count": 35,
     "metadata": {},
     "output_type": "execute_result"
    }
   ],
   "source": [
    "#Adım 1\n",
    "dict.keys()"
   ]
  },
  {
   "cell_type": "code",
   "execution_count": 36,
   "id": "d7e3ccf7",
   "metadata": {},
   "outputs": [
    {
     "data": {
      "text/plain": [
       "dict_values([['America', 18], ['England', 12], ['Spain', 22], ['Italy', 25]])"
      ]
     },
     "execution_count": 36,
     "metadata": {},
     "output_type": "execute_result"
    }
   ],
   "source": [
    "#Adım 2\n",
    "dict.values()"
   ]
  },
  {
   "cell_type": "code",
   "execution_count": 38,
   "id": "71db6e50",
   "metadata": {},
   "outputs": [
    {
     "data": {
      "text/plain": [
       "{'Chiristian': ['America', 18],\n",
       " 'Daisy': ['England', 13],\n",
       " 'Antonio': ['Spain', 22],\n",
       " 'Dante': ['Italy', 25]}"
      ]
     },
     "execution_count": 38,
     "metadata": {},
     "output_type": "execute_result"
    }
   ],
   "source": [
    "#Adım 3\n",
    "dict[\"Daisy\"][1] = 13\n",
    "dict"
   ]
  },
  {
   "cell_type": "code",
   "execution_count": 48,
   "id": "d7e3b0a0",
   "metadata": {},
   "outputs": [
    {
     "data": {
      "text/plain": [
       "{'Chiristian': ['America', 18],\n",
       " 'Daisy': ['England', 12],\n",
       " 'Antonio': ['Spain', 22],\n",
       " 'Dante': ['Italy', 25],\n",
       " 'Ahmet': ['Turkey', 24]}"
      ]
     },
     "execution_count": 48,
     "metadata": {},
     "output_type": "execute_result"
    }
   ],
   "source": [
    "#Adım 4\n",
    "dict[\"Ahmet\"] = [\"Turkey\",24]\n",
    "dict"
   ]
  },
  {
   "cell_type": "code",
   "execution_count": 49,
   "id": "afcd2f80",
   "metadata": {},
   "outputs": [
    {
     "data": {
      "text/plain": [
       "{'Chiristian': ['America', 18],\n",
       " 'Daisy': ['England', 12],\n",
       " 'Dante': ['Italy', 25],\n",
       " 'Ahmet': ['Turkey', 24]}"
      ]
     },
     "execution_count": 49,
     "metadata": {},
     "output_type": "execute_result"
    }
   ],
   "source": [
    "#Adım 5\n",
    "dict.pop(\"Antonio\")\n",
    "dict"
   ]
  },
  {
   "cell_type": "code",
   "execution_count": null,
   "id": "b1553ae2",
   "metadata": {},
   "outputs": [],
   "source": []
  },
  {
   "cell_type": "markdown",
   "id": "27f68c26",
   "metadata": {},
   "source": [
    "###### Görev 5: Argüman olarak bir liste alan, listenin içerisindeki tek ve çift sayıları ayrı listelere atayan ve bu listeleri return eden fonksiyon yazınız."
   ]
  },
  {
   "cell_type": "code",
   "execution_count": 50,
   "id": "68303a5b",
   "metadata": {},
   "outputs": [],
   "source": [
    "l = [2,13,18,93,22]"
   ]
  },
  {
   "cell_type": "code",
   "execution_count": 51,
   "id": "01d034e3",
   "metadata": {},
   "outputs": [],
   "source": [
    "def Return_even_and_odd(liste):\n",
    "    even = []\n",
    "    odd = []\n",
    "    \n",
    "    for number in liste:\n",
    "        if number % 2 == 0:\n",
    "            even.append(number)\n",
    "        else :\n",
    "            odd.append(number)\n",
    "    return even,odd"
   ]
  },
  {
   "cell_type": "code",
   "execution_count": 52,
   "id": "101a4ef0",
   "metadata": {},
   "outputs": [
    {
     "data": {
      "text/plain": [
       "([2, 18, 22], [13, 93])"
      ]
     },
     "execution_count": 52,
     "metadata": {},
     "output_type": "execute_result"
    }
   ],
   "source": [
    "even,odd = Return_even_and_odd(l)\n",
    "even,odd"
   ]
  },
  {
   "cell_type": "code",
   "execution_count": null,
   "id": "504645c0",
   "metadata": {},
   "outputs": [],
   "source": []
  },
  {
   "cell_type": "markdown",
   "id": "c8d4aef8",
   "metadata": {},
   "source": [
    "###### Görev 6: Aşağıda verilen listede mühendislik ve tıp fakülterinde dereceye giren öğrencilerin isimleri bulunmaktadır. Sırasıyla ilk üç öğrenci mühendislik fakültesinin başarı sırasını temsil ederken son üç öğrenci de  tıp fakültesi öğrenci sırasına aittir. Enumarate kullanarak öğrenci derecelerini fakülte özelinde yazdırınız"
   ]
  },
  {
   "cell_type": "code",
   "execution_count": 53,
   "id": "23d3d11b",
   "metadata": {},
   "outputs": [],
   "source": [
    "ogrenciler = [\"Ali\",\"Veli\",\"Ayse\",\"Talat\",\"Zeynep\",\"Ece\"]"
   ]
  },
  {
   "cell_type": "code",
   "execution_count": 54,
   "id": "2cc123da",
   "metadata": {},
   "outputs": [
    {
     "name": "stdout",
     "output_type": "stream",
     "text": [
      "Mühendislik 0. ogrenci : Ali\n",
      "Mühendislik 1. ogrenci : Veli\n",
      "Mühendislik 2. ogrenci : Ayse\n",
      "Tıp 1. ogrenci : Talat\n",
      "Tıp 1. ogrenci : Zeynep\n",
      "Tıp 1. ogrenci : Ece\n"
     ]
    }
   ],
   "source": [
    "for index,ogrenci in enumerate(ogrenciler):\n",
    "    sayac = 1\n",
    "    if index < 3:\n",
    "        print(f\"Mühendislik {index}. ogrenci : {ogrenci}\")\n",
    "    else:\n",
    "        print(f\"Tıp {sayac}. ogrenci : {ogrenci}\")\n",
    "        sayac += 1\n"
   ]
  },
  {
   "cell_type": "code",
   "execution_count": null,
   "id": "104dfbc9",
   "metadata": {},
   "outputs": [],
   "source": []
  },
  {
   "cell_type": "markdown",
   "id": "2cc8d6de",
   "metadata": {},
   "source": [
    "###### Görev 7: Aşağıda 3 adet liste verilmiştir. Listelerde sırası ile bir dersin kodu, kredisi ve kontenjan bilgileri yer almaktadır. Zip kullanarak ders bilgilerini bastırınız."
   ]
  },
  {
   "cell_type": "code",
   "execution_count": 56,
   "id": "52ea7800",
   "metadata": {},
   "outputs": [],
   "source": [
    "ders_kodu = [\"CMP1005\",\"PSY1001\",\"HUK1005\",\"SEN2204\"]\n",
    "kredi = [3,4,2,4]\n",
    "kontenjan = [30,75,150,25]"
   ]
  },
  {
   "cell_type": "code",
   "execution_count": 58,
   "id": "81386890",
   "metadata": {},
   "outputs": [
    {
     "name": "stdout",
     "output_type": "stream",
     "text": [
      "Kredisi 3 olan CMP1005 kodlu dersin kontenjani 30 kişidir\n",
      "Kredisi 4 olan PSY1001 kodlu dersin kontenjani 75 kişidir\n",
      "Kredisi 2 olan HUK1005 kodlu dersin kontenjani 150 kişidir\n",
      "Kredisi 4 olan SEN2204 kodlu dersin kontenjani 25 kişidir\n"
     ]
    }
   ],
   "source": [
    "my_list = list(zip(ders_kodu,kredi,kontenjan))\n",
    "for tup in my_list:\n",
    "    print(f\"Kredisi {tup[1]} olan {tup[0]} kodlu dersin kontenjani {tup[2]} kişidir\")"
   ]
  },
  {
   "cell_type": "code",
   "execution_count": null,
   "id": "8859d08a",
   "metadata": {},
   "outputs": [],
   "source": []
  },
  {
   "cell_type": "markdown",
   "id": "0630b9c8",
   "metadata": {},
   "source": [
    "###### Görev 8: Aşağıda 2 adet set verilmiştir. Sizden istenilen eğer 1. küme 2. kümeyi kapsiyor ise ortak elemanlarını eğer kapsamıyor ise 2. kümenin 1. kümeden farkını yazdıracak fonksiyonu tanımlamanız beklenmektedir."
   ]
  },
  {
   "cell_type": "code",
   "execution_count": 59,
   "id": "6c1c3cd6",
   "metadata": {},
   "outputs": [],
   "source": [
    "set1 = set([\"data\",\"python\"])\n",
    "set2 = set([\"data\",\"function\",\"qcut\",\"lambda\",\"python\",\"miuul\"])"
   ]
  },
  {
   "cell_type": "code",
   "execution_count": 62,
   "id": "ae027175",
   "metadata": {},
   "outputs": [
    {
     "name": "stdout",
     "output_type": "stream",
     "text": [
      "False\n"
     ]
    }
   ],
   "source": [
    "if set1.issuperset(set2):\n",
    "     print(True)\n",
    "else:\n",
    "     print(False)"
   ]
  },
  {
   "cell_type": "code",
   "execution_count": 63,
   "id": "d252fe26",
   "metadata": {},
   "outputs": [
    {
     "data": {
      "text/plain": [
       "{'function', 'lambda', 'miuul', 'qcut'}"
      ]
     },
     "execution_count": 63,
     "metadata": {},
     "output_type": "execute_result"
    }
   ],
   "source": [
    "set2.difference(set1)"
   ]
  },
  {
   "cell_type": "code",
   "execution_count": null,
   "id": "3eff1524",
   "metadata": {},
   "outputs": [],
   "source": []
  },
  {
   "cell_type": "markdown",
   "id": "d17f6830",
   "metadata": {},
   "source": [
    "### List Comprehensions Uygulamaları "
   ]
  },
  {
   "cell_type": "markdown",
   "id": "7d8737c1",
   "metadata": {},
   "source": [
    "###### Görev 1: List Comprehension yapısı kullanarak car_crashes verisindeki numeric değişkenlerin isimlerini büyük harfe çeviriniz ve başına NUM ekleyiniz "
   ]
  },
  {
   "cell_type": "code",
   "execution_count": 65,
   "id": "962338e0",
   "metadata": {},
   "outputs": [
    {
     "data": {
      "text/plain": [
       "Index(['total', 'speeding', 'alcohol', 'not_distracted', 'no_previous',\n",
       "       'ins_premium', 'ins_losses', 'abbrev'],\n",
       "      dtype='object')"
      ]
     },
     "execution_count": 65,
     "metadata": {},
     "output_type": "execute_result"
    }
   ],
   "source": [
    "import seaborn as sns\n",
    "df = sns.load_dataset(\"car_crashes\")\n",
    "df.columns"
   ]
  },
  {
   "cell_type": "code",
   "execution_count": 70,
   "id": "380d6463",
   "metadata": {},
   "outputs": [
    {
     "data": {
      "text/plain": [
       "['NUM_TOTAL',\n",
       " 'NUM_SPEEDING',\n",
       " 'NUM_ALCOHOL',\n",
       " 'NUM_NOT_DISTRACTED',\n",
       " 'NUM_NO_PREVIOUS',\n",
       " 'NUM_INS_PREMIUM',\n",
       " 'NUM_INS_LOSSES',\n",
       " 'NUM_ABBREV']"
      ]
     },
     "execution_count": 70,
     "metadata": {},
     "output_type": "execute_result"
    }
   ],
   "source": [
    "[\"NUM_\"+col.upper() for col in df.columns if df[col].dtype != \"o\"]"
   ]
  },
  {
   "cell_type": "code",
   "execution_count": null,
   "id": "9b1fdfcc",
   "metadata": {},
   "outputs": [],
   "source": []
  },
  {
   "cell_type": "markdown",
   "id": "403d2b20",
   "metadata": {},
   "source": [
    "###### Görev 2: List Comprehension yapısı kullanarak car_crashes verisinde isminde \"no\" barındırmayan değişkenlerin isimlerinin sonuna \"FLAG\" yazınız."
   ]
  },
  {
   "cell_type": "code",
   "execution_count": 71,
   "id": "31865bd2",
   "metadata": {},
   "outputs": [
    {
     "data": {
      "text/plain": [
       "Index(['total', 'speeding', 'alcohol', 'not_distracted', 'no_previous',\n",
       "       'ins_premium', 'ins_losses', 'abbrev'],\n",
       "      dtype='object')"
      ]
     },
     "execution_count": 71,
     "metadata": {},
     "output_type": "execute_result"
    }
   ],
   "source": [
    "import seaborn as sns\n",
    "df = sns.load_dataset(\"car_crashes\")\n",
    "df.columns"
   ]
  },
  {
   "cell_type": "code",
   "execution_count": 73,
   "id": "6532e736",
   "metadata": {},
   "outputs": [
    {
     "data": {
      "text/plain": [
       "['TOTAL_FLAG',\n",
       " 'SPEEDING_FLAG',\n",
       " 'ALCOHOL_FLAG',\n",
       " 'NOT_DISTRACTED',\n",
       " 'NO_PREVIOUS',\n",
       " 'INS_PREMIUM_FLAG',\n",
       " 'INS_LOSSES_FLAG',\n",
       " 'ABBREV_FLAG']"
      ]
     },
     "execution_count": 73,
     "metadata": {},
     "output_type": "execute_result"
    }
   ],
   "source": [
    "[col.upper() +\"_FLAG\" if \"no\" not in col else col.upper() for col in df.columns]"
   ]
  },
  {
   "cell_type": "code",
   "execution_count": null,
   "id": "ef2e7e47",
   "metadata": {},
   "outputs": [],
   "source": []
  },
  {
   "cell_type": "markdown",
   "id": "14637623",
   "metadata": {},
   "source": [
    "###### Görev 3: List Comprehension yapısı kullanarak aşağıda verilen değişken isimlerinden FARKLI olan değişkenlerin isimlerini seçiniz ve yeni bir dataframe oluşturunuz."
   ]
  },
  {
   "cell_type": "code",
   "execution_count": 74,
   "id": "d76686d3",
   "metadata": {},
   "outputs": [],
   "source": [
    "og_list = [\"abbrev\",\"no_previous\"]"
   ]
  },
  {
   "cell_type": "code",
   "execution_count": 75,
   "id": "72090d0b",
   "metadata": {},
   "outputs": [
    {
     "data": {
      "text/plain": [
       "Index(['total', 'speeding', 'alcohol', 'not_distracted', 'no_previous',\n",
       "       'ins_premium', 'ins_losses', 'abbrev'],\n",
       "      dtype='object')"
      ]
     },
     "execution_count": 75,
     "metadata": {},
     "output_type": "execute_result"
    }
   ],
   "source": [
    "import seaborn as sns\n",
    "df = sns.load_dataset(\"car_crashes\")\n",
    "df.columns"
   ]
  },
  {
   "cell_type": "code",
   "execution_count": 86,
   "id": "087aa608",
   "metadata": {},
   "outputs": [],
   "source": [
    "new_cols = [col for col in df.columns if col not in og_list]"
   ]
  },
  {
   "cell_type": "code",
   "execution_count": 89,
   "id": "18547090",
   "metadata": {},
   "outputs": [
    {
     "data": {
      "text/html": [
       "<div>\n",
       "<style scoped>\n",
       "    .dataframe tbody tr th:only-of-type {\n",
       "        vertical-align: middle;\n",
       "    }\n",
       "\n",
       "    .dataframe tbody tr th {\n",
       "        vertical-align: top;\n",
       "    }\n",
       "\n",
       "    .dataframe thead th {\n",
       "        text-align: right;\n",
       "    }\n",
       "</style>\n",
       "<table border=\"1\" class=\"dataframe\">\n",
       "  <thead>\n",
       "    <tr style=\"text-align: right;\">\n",
       "      <th></th>\n",
       "      <th>total</th>\n",
       "      <th>speeding</th>\n",
       "      <th>alcohol</th>\n",
       "      <th>not_distracted</th>\n",
       "      <th>ins_premium</th>\n",
       "      <th>ins_losses</th>\n",
       "    </tr>\n",
       "  </thead>\n",
       "  <tbody>\n",
       "    <tr>\n",
       "      <th>0</th>\n",
       "      <td>18.8</td>\n",
       "      <td>7.332</td>\n",
       "      <td>5.640</td>\n",
       "      <td>18.048</td>\n",
       "      <td>784.55</td>\n",
       "      <td>145.08</td>\n",
       "    </tr>\n",
       "    <tr>\n",
       "      <th>1</th>\n",
       "      <td>18.1</td>\n",
       "      <td>7.421</td>\n",
       "      <td>4.525</td>\n",
       "      <td>16.290</td>\n",
       "      <td>1053.48</td>\n",
       "      <td>133.93</td>\n",
       "    </tr>\n",
       "    <tr>\n",
       "      <th>2</th>\n",
       "      <td>18.6</td>\n",
       "      <td>6.510</td>\n",
       "      <td>5.208</td>\n",
       "      <td>15.624</td>\n",
       "      <td>899.47</td>\n",
       "      <td>110.35</td>\n",
       "    </tr>\n",
       "    <tr>\n",
       "      <th>3</th>\n",
       "      <td>22.4</td>\n",
       "      <td>4.032</td>\n",
       "      <td>5.824</td>\n",
       "      <td>21.056</td>\n",
       "      <td>827.34</td>\n",
       "      <td>142.39</td>\n",
       "    </tr>\n",
       "    <tr>\n",
       "      <th>4</th>\n",
       "      <td>12.0</td>\n",
       "      <td>4.200</td>\n",
       "      <td>3.360</td>\n",
       "      <td>10.920</td>\n",
       "      <td>878.41</td>\n",
       "      <td>165.63</td>\n",
       "    </tr>\n",
       "  </tbody>\n",
       "</table>\n",
       "</div>"
      ],
      "text/plain": [
       "   total  speeding  alcohol  not_distracted  ins_premium  ins_losses\n",
       "0   18.8     7.332    5.640          18.048       784.55      145.08\n",
       "1   18.1     7.421    4.525          16.290      1053.48      133.93\n",
       "2   18.6     6.510    5.208          15.624       899.47      110.35\n",
       "3   22.4     4.032    5.824          21.056       827.34      142.39\n",
       "4   12.0     4.200    3.360          10.920       878.41      165.63"
      ]
     },
     "execution_count": 89,
     "metadata": {},
     "output_type": "execute_result"
    }
   ],
   "source": [
    "new_df = df[new_cols]\n",
    "new_df.head()"
   ]
  },
  {
   "cell_type": "code",
   "execution_count": null,
   "id": "fc066a37",
   "metadata": {},
   "outputs": [],
   "source": []
  }
 ],
 "metadata": {
  "kernelspec": {
   "display_name": "Python 3 (ipykernel)",
   "language": "python",
   "name": "python3"
  },
  "language_info": {
   "codemirror_mode": {
    "name": "ipython",
    "version": 3
   },
   "file_extension": ".py",
   "mimetype": "text/x-python",
   "name": "python",
   "nbconvert_exporter": "python",
   "pygments_lexer": "ipython3",
   "version": "3.9.13"
  }
 },
 "nbformat": 4,
 "nbformat_minor": 5
}
